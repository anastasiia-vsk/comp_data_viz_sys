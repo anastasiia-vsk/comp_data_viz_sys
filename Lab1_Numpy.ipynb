{
 "cells": [
  {
   "cell_type": "markdown",
   "metadata": {},
   "source": [
    "# Робота з бібліотекою Numpy "
   ]
  },
  {
   "cell_type": "code",
   "execution_count": 1,
   "metadata": {},
   "outputs": [],
   "source": [
    "import numpy as np"
   ]
  },
  {
   "cell_type": "markdown",
   "metadata": {},
   "source": [
    "1. Створіть одновимірний масив (вектор) з першими 20-ма натуральними числами та виведіть його значення. "
   ]
  },
  {
   "cell_type": "code",
   "execution_count": 2,
   "metadata": {},
   "outputs": [
    {
     "name": "stdout",
     "output_type": "stream",
     "text": [
      "[ 1  2  3  4  5  6  7  8  9 10 11 12 13 14 15 16 17 18 19 20]\n"
     ]
    }
   ],
   "source": [
    "array1 = np.arange(1, 21)\n",
    "print(array1)"
   ]
  },
  {
   "cell_type": "markdown",
   "metadata": {},
   "source": [
    "2. Створіть двовимірний масив (матрицю) розміром 4x4, заповніть його одиницями та виведіть його значення. "
   ]
  },
  {
   "cell_type": "code",
   "execution_count": 3,
   "metadata": {},
   "outputs": [
    {
     "name": "stdout",
     "output_type": "stream",
     "text": [
      "[[1 1 1 1]\n",
      " [1 1 1 1]\n",
      " [1 1 1 1]\n",
      " [1 1 1 1]]\n"
     ]
    }
   ],
   "source": [
    "matrix2 = np.ones((4, 4), dtype=int) # dtype=int додала, бо дратували десяткові коми(формат float, що йде за замовченням)\n",
    "print(matrix2)"
   ]
  },
  {
   "cell_type": "markdown",
   "metadata": {},
   "source": [
    "3. Створіть масив розміром 5x5, заповніть його випадковими дійсними числами в діапазоні від -1 до 1 та виведіть його значення. "
   ]
  },
  {
   "cell_type": "code",
   "execution_count": 4,
   "metadata": {},
   "outputs": [
    {
     "name": "stdout",
     "output_type": "stream",
     "text": [
      "[[ 0.09204141 -0.38567833 -0.16118653  0.08268818  0.40059882]\n",
      " [ 0.39453872  0.06502227  0.04794633 -0.28509716 -0.25384294]\n",
      " [-0.5514426   0.83201266 -0.54061178 -0.45528287  0.35083233]\n",
      " [ 0.54230403  0.00503365  0.30408956  0.82502457 -0.07026197]\n",
      " [ 0.90237481 -0.70048211 -0.61320344  0.55747963 -0.66899994]]\n"
     ]
    }
   ],
   "source": [
    "matrix3 = np.random.uniform(-1, 1, (5, 5))\n",
    "print(matrix3)"
   ]
  },
  {
   "cell_type": "markdown",
   "metadata": {},
   "source": [
    "4. Створіть масив розміром 3x3, заповніть його випадковими дійсними числами в діапазоні від 0 до 1 та виведіть його значення. "
   ]
  },
  {
   "cell_type": "code",
   "execution_count": 5,
   "metadata": {},
   "outputs": [
    {
     "name": "stdout",
     "output_type": "stream",
     "text": [
      "[[0.56098363 0.7581167  0.40756564]\n",
      " [0.22483998 0.27276843 0.77909585]\n",
      " [0.13890706 0.26764497 0.7813865 ]]\n"
     ]
    }
   ],
   "source": [
    "# варіант 1\n",
    "matrix4_1 = np.random.uniform(0, 1, (3, 3))\n",
    "print(matrix4_1)"
   ]
  },
  {
   "cell_type": "code",
   "execution_count": 6,
   "metadata": {},
   "outputs": [
    {
     "name": "stdout",
     "output_type": "stream",
     "text": [
      "[[0.70094019 0.87464789 0.72922363]\n",
      " [0.42331873 0.45073122 0.36050208]\n",
      " [0.59516765 0.61043036 0.79749064]]\n"
     ]
    }
   ],
   "source": [
    "# варіант 2\n",
    "# np.random.rand за замовчуванням генерує випадкові числа від 0 до 1\n",
    "matrix4_2 = np.random.rand(3, 3)\n",
    "print(matrix4_2)"
   ]
  },
  {
   "cell_type": "markdown",
   "metadata": {},
   "source": [
    "5. Створіть два одновимірних масиви розміром 6, заповніть їх випадковими цілими числами в діапазоні від 1 до 20 та виконайте на них поелементні операції додавання, віднімання та множення. "
   ]
  },
  {
   "cell_type": "code",
   "execution_count": 7,
   "metadata": {},
   "outputs": [
    {
     "name": "stdout",
     "output_type": "stream",
     "text": [
      "Масив 1: [16  8 12 16 17 14]\n",
      "\n",
      "Масив 2: [13  1 10 11  3  7]\n"
     ]
    }
   ],
   "source": [
    "array5_1 = np.random.randint(1, 21, 6)\n",
    "array5_2 = np.random.randint(1, 21, 6)\n",
    "\n",
    "print(\"Масив 1:\", array5_1)\n",
    "print()\n",
    "print(\"Масив 2:\", array5_2)"
   ]
  },
  {
   "cell_type": "code",
   "execution_count": 8,
   "metadata": {},
   "outputs": [
    {
     "name": "stdout",
     "output_type": "stream",
     "text": [
      "Додавання: [29  9 22 27 20 21]\n",
      "Віднімання: [ 3  7  2  5 14  7]\n",
      "Множення: [208   8 120 176  51  98]\n"
     ]
    }
   ],
   "source": [
    "add_result = array5_1 + array5_2\n",
    "subtr_result = array5_1 - array5_2\n",
    "multipl_result = array5_1 * array5_2\n",
    "\n",
    "\n",
    "print(f\"Додавання: {add_result}\")\n",
    "print(f\"Віднімання: {subtr_result}\")\n",
    "print(f\"Множення: {multipl_result}\")"
   ]
  },
  {
   "cell_type": "markdown",
   "metadata": {},
   "source": [
    "6. Створіть дві матриці розміром 3x2 та 2x4, заповніть їх випадковими цілими числами в діапазоні від 1 до 5 та перемножте їх між собою. "
   ]
  },
  {
   "cell_type": "code",
   "execution_count": 9,
   "metadata": {},
   "outputs": [
    {
     "name": "stdout",
     "output_type": "stream",
     "text": [
      "Матриця 1: \n",
      " [[4 5]\n",
      " [5 2]\n",
      " [4 4]]\n",
      "\n",
      "Матриця 2: \n",
      " [[4 2 5 1]\n",
      " [4 4 2 1]]\n"
     ]
    }
   ],
   "source": [
    "matrix6_1 = np.random.randint(1, 6, (3, 2))\n",
    "matrix6_2 = np.random.randint(1, 6, (2, 4))\n",
    "\n",
    "print(f\"Матриця 1: \\n {matrix6_1}\")\n",
    "print()\n",
    "print(f\"Матриця 2: \\n {matrix6_2}\")"
   ]
  },
  {
   "cell_type": "code",
   "execution_count": 10,
   "metadata": {},
   "outputs": [
    {
     "name": "stdout",
     "output_type": "stream",
     "text": [
      "Результат перемноження:\n",
      "[[36 28 30  9]\n",
      " [28 18 29  7]\n",
      " [32 24 28  8]]\n"
     ]
    }
   ],
   "source": [
    "multipl_matrix = np.dot(matrix6_1, matrix6_2)\n",
    "\n",
    "print(\"Результат перемноження:\")\n",
    "print(multipl_matrix)"
   ]
  },
  {
   "cell_type": "markdown",
   "metadata": {},
   "source": [
    "7. Створіть матрицю розміром 3x3, заповніть її випадковими дійсними числами в діапазоні від 0 до 1 та транспонуйте її. "
   ]
  },
  {
   "cell_type": "code",
   "execution_count": 11,
   "metadata": {},
   "outputs": [
    {
     "name": "stdout",
     "output_type": "stream",
     "text": [
      "Початкова матриця:\n",
      "[[0.8666744  0.41258859 0.91832164]\n",
      " [0.35458249 0.33785384 0.27579781]\n",
      " [0.89692327 0.03571356 0.23844375]]\n"
     ]
    }
   ],
   "source": [
    "matrix7 = np.random.rand(3, 3)\n",
    "\n",
    "print(\"Початкова матриця:\")\n",
    "print(matrix7)"
   ]
  },
  {
   "cell_type": "code",
   "execution_count": 12,
   "metadata": {},
   "outputs": [
    {
     "name": "stdout",
     "output_type": "stream",
     "text": [
      "Транспонована матриця:\n",
      "[[0.8666744  0.35458249 0.89692327]\n",
      " [0.41258859 0.33785384 0.03571356]\n",
      " [0.91832164 0.27579781 0.23844375]]\n"
     ]
    }
   ],
   "source": [
    "# варіант 1\n",
    "transposed_matrix_1 = np.transpose(matrix7)\n",
    "\n",
    "print(\"Транспонована матриця:\")\n",
    "print(transposed_matrix_1)"
   ]
  },
  {
   "cell_type": "code",
   "execution_count": 13,
   "metadata": {},
   "outputs": [
    {
     "name": "stdout",
     "output_type": "stream",
     "text": [
      "[[0.8666744  0.35458249 0.89692327]\n",
      " [0.41258859 0.33785384 0.03571356]\n",
      " [0.91832164 0.27579781 0.23844375]]\n"
     ]
    }
   ],
   "source": [
    "# варіант 2\n",
    "transposed_matrix_2 = matrix7.T\n",
    "print(transposed_matrix_2)"
   ]
  },
  {
   "cell_type": "markdown",
   "metadata": {},
   "source": [
    "8. Створіть дві матриці розміром 3x3, заповніть їх випадковими цілими числами в діапазоні від 1 до 10 та знайдіть їхню різницю. "
   ]
  },
  {
   "cell_type": "code",
   "execution_count": 14,
   "metadata": {},
   "outputs": [
    {
     "name": "stdout",
     "output_type": "stream",
     "text": [
      "Перша матриця: \n",
      " [[9 6 2]\n",
      " [7 4 8]\n",
      " [7 6 2]]\n",
      "\n",
      "Друга матриця: \n",
      " [[3 8 4]\n",
      " [7 6 6]\n",
      " [8 3 9]]\n"
     ]
    }
   ],
   "source": [
    "matrix8_1 = np.random.randint(1, 11, (3, 3))\n",
    "matrix8_2 = np.random.randint(1, 11, (3, 3))\n",
    "\n",
    "print(f\"Перша матриця: \\n {matrix8_1}\")\n",
    "print()\n",
    "print(f\"Друга матриця: \\n {matrix8_2}\")"
   ]
  },
  {
   "cell_type": "code",
   "execution_count": 15,
   "metadata": {},
   "outputs": [
    {
     "name": "stdout",
     "output_type": "stream",
     "text": [
      "Різниця між матрицями: \n",
      " [[ 6 -2 -2]\n",
      " [ 0 -2  2]\n",
      " [-1  3 -7]]\n"
     ]
    }
   ],
   "source": [
    "difference_matrix = matrix8_1 - matrix8_2\n",
    "\n",
    "print(f\"Різниця між матрицями: \\n {difference_matrix}\")"
   ]
  },
  {
   "cell_type": "markdown",
   "metadata": {},
   "source": [
    "9. Створіть дві матриці розміром 3x3, заповніть їх випадковими цілими числами в діапазоні від -5 до 5 та знайдіть їх добуток. "
   ]
  },
  {
   "cell_type": "code",
   "execution_count": 16,
   "metadata": {},
   "outputs": [
    {
     "name": "stdout",
     "output_type": "stream",
     "text": [
      "Перша матриця:\n",
      "[[-3  4  4]\n",
      " [-1  3 -5]\n",
      " [-3 -2  1]]\n",
      "\n",
      "Друга матриця:\n",
      "[[ 4 -3 -1]\n",
      " [ 3  4  3]\n",
      " [-4 -4 -5]]\n"
     ]
    }
   ],
   "source": [
    "matrix9_1 = np.random.randint(-5, 6, (3, 3))\n",
    "matrix9_2 = np.random.randint(-5, 6, (3, 3))\n",
    "\n",
    "print(\"Перша матриця:\")\n",
    "print(matrix9_1)\n",
    "\n",
    "print()\n",
    "\n",
    "print(\"Друга матриця:\")\n",
    "print(matrix9_2)"
   ]
  },
  {
   "cell_type": "code",
   "execution_count": 17,
   "metadata": {},
   "outputs": [
    {
     "name": "stdout",
     "output_type": "stream",
     "text": [
      "Добуток матриць:\n",
      "[[-16   9  -5]\n",
      " [ 25  35  35]\n",
      " [-22  -3  -8]]\n"
     ]
    }
   ],
   "source": [
    "mult_matrix = np.dot(matrix9_1, matrix9_2)\n",
    "\n",
    "print(\"Добуток матриць:\")\n",
    "print(mult_matrix)"
   ]
  },
  {
   "cell_type": "markdown",
   "metadata": {},
   "source": [
    "10. Створіть матрицю розміром 3x3, заповніть її випадковими дійсними числами в діапазоні від -1 до 1 та знайдіть вектор-стовпчик, що містить суму елементів кожного рядка матриці. "
   ]
  },
  {
   "cell_type": "code",
   "execution_count": 18,
   "metadata": {},
   "outputs": [
    {
     "name": "stdout",
     "output_type": "stream",
     "text": [
      "Початкова матриця:\n",
      "[[ 0.98486936  0.64878333  0.54141576]\n",
      " [-0.71147142 -0.22979732  0.52641025]\n",
      " [-0.85505775 -0.57392047 -0.18448062]]\n"
     ]
    }
   ],
   "source": [
    "matrix10 = np.random.uniform(-1, 1, (3, 3))\n",
    "\n",
    "print(\"Початкова матриця:\")\n",
    "print(matrix10)"
   ]
  },
  {
   "cell_type": "code",
   "execution_count": 19,
   "metadata": {},
   "outputs": [
    {
     "name": "stdout",
     "output_type": "stream",
     "text": [
      "Вектор-стовпчик сум рядків:\n",
      "[ 2.17506844 -0.41485849 -1.61345884]\n"
     ]
    }
   ],
   "source": [
    "row_sums = np.sum(matrix10, axis=1)\n",
    "\n",
    "print(\"Вектор-стовпчик сум рядків:\")\n",
    "print(row_sums)"
   ]
  }
 ],
 "metadata": {
  "kernelspec": {
   "display_name": "Python 3",
   "language": "python",
   "name": "python3"
  },
  "language_info": {
   "codemirror_mode": {
    "name": "ipython",
    "version": 3
   },
   "file_extension": ".py",
   "mimetype": "text/x-python",
   "name": "python",
   "nbconvert_exporter": "python",
   "pygments_lexer": "ipython3",
   "version": "3.10.11"
  },
  "orig_nbformat": 4
 },
 "nbformat": 4,
 "nbformat_minor": 2
}
