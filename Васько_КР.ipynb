{
 "cells": [
  {
   "cell_type": "markdown",
   "metadata": {},
   "source": [
    "## Підсумкова контрольна робота КСВД"
   ]
  },
  {
   "cell_type": "code",
   "execution_count": 1,
   "metadata": {},
   "outputs": [],
   "source": [
    "import numpy as np\n",
    "import pandas as pd\n",
    "import seaborn as sns\n",
    "import matplotlib.pyplot as plt\n",
    "import plotly.express as px\n",
    "import altair as alt\n",
    "from vega_datasets import data"
   ]
  },
  {
   "cell_type": "markdown",
   "metadata": {},
   "source": [
    "### Завдання 1\n",
    "Загрузити датасет Global YouTube Statistics 2023"
   ]
  },
  {
   "cell_type": "markdown",
   "metadata": {},
   "source": [
    "1. Прочитайте CSV файл"
   ]
  },
  {
   "cell_type": "code",
   "execution_count": 2,
   "metadata": {},
   "outputs": [],
   "source": [
    "df_youtube = pd.read_csv(\"Global_YouTube_Statistics.csv\", encoding=\"ISO-8859-1\")"
   ]
  },
  {
   "cell_type": "markdown",
   "metadata": {},
   "source": [
    "2. Виведіть перші п'ять рядків"
   ]
  },
  {
   "cell_type": "code",
   "execution_count": 3,
   "metadata": {},
   "outputs": [
    {
     "data": {
      "text/html": [
       "<div>\n",
       "<style scoped>\n",
       "    .dataframe tbody tr th:only-of-type {\n",
       "        vertical-align: middle;\n",
       "    }\n",
       "\n",
       "    .dataframe tbody tr th {\n",
       "        vertical-align: top;\n",
       "    }\n",
       "\n",
       "    .dataframe thead th {\n",
       "        text-align: right;\n",
       "    }\n",
       "</style>\n",
       "<table border=\"1\" class=\"dataframe\">\n",
       "  <thead>\n",
       "    <tr style=\"text-align: right;\">\n",
       "      <th></th>\n",
       "      <th>rank</th>\n",
       "      <th>Youtuber</th>\n",
       "      <th>subscribers</th>\n",
       "      <th>video views</th>\n",
       "      <th>category</th>\n",
       "      <th>Title</th>\n",
       "      <th>uploads</th>\n",
       "      <th>Country</th>\n",
       "      <th>Abbreviation</th>\n",
       "      <th>channel_type</th>\n",
       "      <th>...</th>\n",
       "      <th>subscribers_for_last_30_days</th>\n",
       "      <th>created_year</th>\n",
       "      <th>created_month</th>\n",
       "      <th>created_date</th>\n",
       "      <th>Gross tertiary education enrollment (%)</th>\n",
       "      <th>Population</th>\n",
       "      <th>Unemployment rate</th>\n",
       "      <th>Urban_population</th>\n",
       "      <th>Latitude</th>\n",
       "      <th>Longitude</th>\n",
       "    </tr>\n",
       "  </thead>\n",
       "  <tbody>\n",
       "    <tr>\n",
       "      <th>0</th>\n",
       "      <td>1</td>\n",
       "      <td>T-Series</td>\n",
       "      <td>245000000</td>\n",
       "      <td>2.280000e+11</td>\n",
       "      <td>Music</td>\n",
       "      <td>T-Series</td>\n",
       "      <td>20082</td>\n",
       "      <td>India</td>\n",
       "      <td>IN</td>\n",
       "      <td>Music</td>\n",
       "      <td>...</td>\n",
       "      <td>2000000.0</td>\n",
       "      <td>2006.0</td>\n",
       "      <td>Mar</td>\n",
       "      <td>13.0</td>\n",
       "      <td>28.1</td>\n",
       "      <td>1.366418e+09</td>\n",
       "      <td>5.36</td>\n",
       "      <td>471031528.0</td>\n",
       "      <td>20.593684</td>\n",
       "      <td>78.962880</td>\n",
       "    </tr>\n",
       "    <tr>\n",
       "      <th>1</th>\n",
       "      <td>2</td>\n",
       "      <td>YouTube Movies</td>\n",
       "      <td>170000000</td>\n",
       "      <td>0.000000e+00</td>\n",
       "      <td>Film &amp; Animation</td>\n",
       "      <td>youtubemovies</td>\n",
       "      <td>1</td>\n",
       "      <td>United States</td>\n",
       "      <td>US</td>\n",
       "      <td>Games</td>\n",
       "      <td>...</td>\n",
       "      <td>NaN</td>\n",
       "      <td>2006.0</td>\n",
       "      <td>Mar</td>\n",
       "      <td>5.0</td>\n",
       "      <td>88.2</td>\n",
       "      <td>3.282395e+08</td>\n",
       "      <td>14.70</td>\n",
       "      <td>270663028.0</td>\n",
       "      <td>37.090240</td>\n",
       "      <td>-95.712891</td>\n",
       "    </tr>\n",
       "    <tr>\n",
       "      <th>2</th>\n",
       "      <td>3</td>\n",
       "      <td>MrBeast</td>\n",
       "      <td>166000000</td>\n",
       "      <td>2.836884e+10</td>\n",
       "      <td>Entertainment</td>\n",
       "      <td>MrBeast</td>\n",
       "      <td>741</td>\n",
       "      <td>United States</td>\n",
       "      <td>US</td>\n",
       "      <td>Entertainment</td>\n",
       "      <td>...</td>\n",
       "      <td>8000000.0</td>\n",
       "      <td>2012.0</td>\n",
       "      <td>Feb</td>\n",
       "      <td>20.0</td>\n",
       "      <td>88.2</td>\n",
       "      <td>3.282395e+08</td>\n",
       "      <td>14.70</td>\n",
       "      <td>270663028.0</td>\n",
       "      <td>37.090240</td>\n",
       "      <td>-95.712891</td>\n",
       "    </tr>\n",
       "    <tr>\n",
       "      <th>3</th>\n",
       "      <td>4</td>\n",
       "      <td>Cocomelon - Nursery Rhymes</td>\n",
       "      <td>162000000</td>\n",
       "      <td>1.640000e+11</td>\n",
       "      <td>Education</td>\n",
       "      <td>Cocomelon - Nursery Rhymes</td>\n",
       "      <td>966</td>\n",
       "      <td>United States</td>\n",
       "      <td>US</td>\n",
       "      <td>Education</td>\n",
       "      <td>...</td>\n",
       "      <td>1000000.0</td>\n",
       "      <td>2006.0</td>\n",
       "      <td>Sep</td>\n",
       "      <td>1.0</td>\n",
       "      <td>88.2</td>\n",
       "      <td>3.282395e+08</td>\n",
       "      <td>14.70</td>\n",
       "      <td>270663028.0</td>\n",
       "      <td>37.090240</td>\n",
       "      <td>-95.712891</td>\n",
       "    </tr>\n",
       "    <tr>\n",
       "      <th>4</th>\n",
       "      <td>5</td>\n",
       "      <td>SET India</td>\n",
       "      <td>159000000</td>\n",
       "      <td>1.480000e+11</td>\n",
       "      <td>Shows</td>\n",
       "      <td>SET India</td>\n",
       "      <td>116536</td>\n",
       "      <td>India</td>\n",
       "      <td>IN</td>\n",
       "      <td>Entertainment</td>\n",
       "      <td>...</td>\n",
       "      <td>1000000.0</td>\n",
       "      <td>2006.0</td>\n",
       "      <td>Sep</td>\n",
       "      <td>20.0</td>\n",
       "      <td>28.1</td>\n",
       "      <td>1.366418e+09</td>\n",
       "      <td>5.36</td>\n",
       "      <td>471031528.0</td>\n",
       "      <td>20.593684</td>\n",
       "      <td>78.962880</td>\n",
       "    </tr>\n",
       "  </tbody>\n",
       "</table>\n",
       "<p>5 rows × 28 columns</p>\n",
       "</div>"
      ],
      "text/plain": [
       "   rank                    Youtuber  subscribers   video views  \\\n",
       "0     1                    T-Series    245000000  2.280000e+11   \n",
       "1     2              YouTube Movies    170000000  0.000000e+00   \n",
       "2     3                     MrBeast    166000000  2.836884e+10   \n",
       "3     4  Cocomelon - Nursery Rhymes    162000000  1.640000e+11   \n",
       "4     5                   SET India    159000000  1.480000e+11   \n",
       "\n",
       "           category                       Title  uploads        Country  \\\n",
       "0             Music                    T-Series    20082          India   \n",
       "1  Film & Animation               youtubemovies        1  United States   \n",
       "2     Entertainment                     MrBeast      741  United States   \n",
       "3         Education  Cocomelon - Nursery Rhymes      966  United States   \n",
       "4             Shows                   SET India   116536          India   \n",
       "\n",
       "  Abbreviation   channel_type  ...  subscribers_for_last_30_days  \\\n",
       "0           IN          Music  ...                     2000000.0   \n",
       "1           US          Games  ...                           NaN   \n",
       "2           US  Entertainment  ...                     8000000.0   \n",
       "3           US      Education  ...                     1000000.0   \n",
       "4           IN  Entertainment  ...                     1000000.0   \n",
       "\n",
       "   created_year  created_month  created_date  \\\n",
       "0        2006.0            Mar          13.0   \n",
       "1        2006.0            Mar           5.0   \n",
       "2        2012.0            Feb          20.0   \n",
       "3        2006.0            Sep           1.0   \n",
       "4        2006.0            Sep          20.0   \n",
       "\n",
       "   Gross tertiary education enrollment (%)    Population  Unemployment rate  \\\n",
       "0                                     28.1  1.366418e+09               5.36   \n",
       "1                                     88.2  3.282395e+08              14.70   \n",
       "2                                     88.2  3.282395e+08              14.70   \n",
       "3                                     88.2  3.282395e+08              14.70   \n",
       "4                                     28.1  1.366418e+09               5.36   \n",
       "\n",
       "   Urban_population   Latitude  Longitude  \n",
       "0       471031528.0  20.593684  78.962880  \n",
       "1       270663028.0  37.090240 -95.712891  \n",
       "2       270663028.0  37.090240 -95.712891  \n",
       "3       270663028.0  37.090240 -95.712891  \n",
       "4       471031528.0  20.593684  78.962880  \n",
       "\n",
       "[5 rows x 28 columns]"
      ]
     },
     "execution_count": 3,
     "metadata": {},
     "output_type": "execute_result"
    }
   ],
   "source": [
    "df_youtube.head(5)"
   ]
  },
  {
   "cell_type": "code",
   "execution_count": 4,
   "metadata": {},
   "outputs": [
    {
     "data": {
      "text/plain": [
       "Index(['rank', 'youtuber', 'subscribers', 'video_views', 'category', 'title',\n",
       "       'uploads', 'country', 'abbreviation', 'channel_type',\n",
       "       'video_views_rank', 'country_rank', 'channel_type_rank',\n",
       "       'video_views_for_the_last_30_days', 'lowest_monthly_earnings',\n",
       "       'highest_monthly_earnings', 'lowest_yearly_earnings',\n",
       "       'highest_yearly_earnings', 'subscribers_for_last_30_days',\n",
       "       'created_year', 'created_month', 'created_date',\n",
       "       'gross_tertiary_education_enrollment_(%)', 'population',\n",
       "       'unemployment_rate', 'urban_population', 'latitude', 'longitude'],\n",
       "      dtype='object')"
      ]
     },
     "execution_count": 4,
     "metadata": {},
     "output_type": "execute_result"
    }
   ],
   "source": [
    "# перейменувала ще колонки у стилі \"snake_case\", аби було зручніше звертатися до них\n",
    "df_youtube.columns = df_youtube.columns.str.replace(\" \", \"_\").str.lower()\n",
    "df_youtube.columns"
   ]
  },
  {
   "cell_type": "markdown",
   "metadata": {},
   "source": [
    "3. Виведіть розміри датасету, перевірте наявність пропусків, дублікатів."
   ]
  },
  {
   "cell_type": "code",
   "execution_count": 5,
   "metadata": {},
   "outputs": [
    {
     "name": "stdout",
     "output_type": "stream",
     "text": [
      "Датасет містить 995 рядків та 28 стовпців\n"
     ]
    }
   ],
   "source": [
    "rows, cols = df_youtube.shape\n",
    "print(f\"Датасет містить {rows} рядків та {cols} стовпців\")"
   ]
  },
  {
   "cell_type": "code",
   "execution_count": 6,
   "metadata": {},
   "outputs": [
    {
     "name": "stdout",
     "output_type": "stream",
     "text": [
      "Кількість пропусків:\n"
     ]
    },
    {
     "data": {
      "text/plain": [
       "rank                                         0\n",
       "youtuber                                     0\n",
       "subscribers                                  0\n",
       "video_views                                  0\n",
       "category                                    46\n",
       "title                                        0\n",
       "uploads                                      0\n",
       "country                                    122\n",
       "abbreviation                               122\n",
       "channel_type                                30\n",
       "video_views_rank                             1\n",
       "country_rank                               116\n",
       "channel_type_rank                           33\n",
       "video_views_for_the_last_30_days            56\n",
       "lowest_monthly_earnings                      0\n",
       "highest_monthly_earnings                     0\n",
       "lowest_yearly_earnings                       0\n",
       "highest_yearly_earnings                      0\n",
       "subscribers_for_last_30_days               337\n",
       "created_year                                 5\n",
       "created_month                                5\n",
       "created_date                                 5\n",
       "gross_tertiary_education_enrollment_(%)    123\n",
       "population                                 123\n",
       "unemployment_rate                          123\n",
       "urban_population                           123\n",
       "latitude                                   123\n",
       "longitude                                  123\n",
       "dtype: int64"
      ]
     },
     "execution_count": 6,
     "metadata": {},
     "output_type": "execute_result"
    }
   ],
   "source": [
    "print(\"Кількість пропусків:\")\n",
    "df_youtube.isna().sum()"
   ]
  },
  {
   "cell_type": "code",
   "execution_count": 7,
   "metadata": {},
   "outputs": [
    {
     "name": "stdout",
     "output_type": "stream",
     "text": [
      "Кількість дублікатів: 0\n"
     ]
    }
   ],
   "source": [
    "print(\"Кількість дублікатів:\", df_youtube.duplicated().sum())"
   ]
  },
  {
   "cell_type": "markdown",
   "metadata": {},
   "source": [
    "4. Якщо є пропуски, замінить тип даних на float і середнє значення за\n",
    "стовпцем."
   ]
  },
  {
   "cell_type": "code",
   "execution_count": 8,
   "metadata": {},
   "outputs": [
    {
     "name": "stderr",
     "output_type": "stream",
     "text": [
      "C:\\Users\\nasty\\AppData\\Local\\Temp\\ipykernel_10008\\628883354.py:1: FutureWarning: Dropping of nuisance columns in DataFrame reductions (with 'numeric_only=None') is deprecated; in a future version this will raise TypeError.  Select only valid columns before calling the reduction.\n",
      "  df_youtube = df_youtube.fillna(df_youtube.mean())\n"
     ]
    }
   ],
   "source": [
    "df_youtube = df_youtube.fillna(df_youtube.mean())\n",
    "# перетворювати на числовий тип додатково не бачу сенсу,\n",
    "# бо замінюється і так в числових(якщо треба було б перетворити, я б використала .astype(float))"
   ]
  },
  {
   "cell_type": "code",
   "execution_count": 9,
   "metadata": {},
   "outputs": [],
   "source": [
    "# АЛЕ ж ми не можемо замінити середнім у стовпчиках нечислового типу\n",
    "\n",
    "# тому у стовпчиках category, сountry, abbreviation, channel_type\n",
    "columns = [\"category\", \"country\", \"abbreviation\", \"channel_type\"]\n",
    "query = {col: \"NaN\" for col in columns}\n",
    "df_youtube = df_youtube.fillna(query)"
   ]
  },
  {
   "cell_type": "markdown",
   "metadata": {},
   "source": [
    "5. Ще раз перевірте кількість пропусків."
   ]
  },
  {
   "cell_type": "code",
   "execution_count": 10,
   "metadata": {},
   "outputs": [
    {
     "data": {
      "text/plain": [
       "rank                                       0\n",
       "youtuber                                   0\n",
       "subscribers                                0\n",
       "video_views                                0\n",
       "category                                   0\n",
       "title                                      0\n",
       "uploads                                    0\n",
       "country                                    0\n",
       "abbreviation                               0\n",
       "channel_type                               0\n",
       "video_views_rank                           0\n",
       "country_rank                               0\n",
       "channel_type_rank                          0\n",
       "video_views_for_the_last_30_days           0\n",
       "lowest_monthly_earnings                    0\n",
       "highest_monthly_earnings                   0\n",
       "lowest_yearly_earnings                     0\n",
       "highest_yearly_earnings                    0\n",
       "subscribers_for_last_30_days               0\n",
       "created_year                               0\n",
       "created_month                              5\n",
       "created_date                               0\n",
       "gross_tertiary_education_enrollment_(%)    0\n",
       "population                                 0\n",
       "unemployment_rate                          0\n",
       "urban_population                           0\n",
       "latitude                                   0\n",
       "longitude                                  0\n",
       "dtype: int64"
      ]
     },
     "execution_count": 10,
     "metadata": {},
     "output_type": "execute_result"
    }
   ],
   "source": [
    "df_youtube.isna().sum()"
   ]
  },
  {
   "cell_type": "markdown",
   "metadata": {},
   "source": [
    "6. Перевірте, скільки унікальних країн представлено у колонці \"Country\""
   ]
  },
  {
   "cell_type": "code",
   "execution_count": 11,
   "metadata": {},
   "outputs": [
    {
     "name": "stdout",
     "output_type": "stream",
     "text": [
      "Кількість унікальних країн у колонці 'Country': 49\n"
     ]
    }
   ],
   "source": [
    "print(\"Кількість унікальних країн у колонці 'Country':\", df_youtube[\"country\"].nunique() - 1)  # додала -1, аби не враховували значення NaN як країну"
   ]
  },
  {
   "cell_type": "markdown",
   "metadata": {},
   "source": [
    "7. Побудуйте діаграму розподілу переглядів (використовуйте kind='hist'):"
   ]
  },
  {
   "cell_type": "code",
   "execution_count": 12,
   "metadata": {},
   "outputs": [
    {
     "data": {
      "image/png": "[encoded data removed]",
      "text/plain": [
       "<Figure size 720x432 with 1 Axes>"
      ]
     },
     "metadata": {
      "needs_background": "light"
     },
     "output_type": "display_data"
    }
   ],
   "source": [
    "plt.figure(figsize=(10, 6))\n",
    "\n",
    "df_youtube[\"video_views\"].plot(kind=\"hist\", bins=20, edgecolor=\"black\", color=\"skyblue\", alpha=0.7)\n",
    "plt.title(\"Розподіл переглядів\")\n",
    "plt.xlabel(\"Перегляди\")\n",
    "plt.ylabel(\"Кількість\")\n",
    "plt.grid(axis=\"y\", linestyle=\"--\", alpha=0.7)\n",
    "plt.show()"
   ]
  },
  {
   "cell_type": "markdown",
   "metadata": {},
   "source": [
    "8. Визначте максимальну, мінімальну, середню кількість переглядів\n",
    "(використовуйте методи max, min, mean)"
   ]
  },
  {
   "cell_type": "code",
   "execution_count": 13,
   "metadata": {},
   "outputs": [
    {
     "name": "stdout",
     "output_type": "stream",
     "text": [
      "Максимальна кількість переглядів: 228000000000.0\n",
      "Мінімальна кількість переглядів: 0.0\n",
      "Середня кількість переглядів: 11039537052.03819\n"
     ]
    }
   ],
   "source": [
    "print(\"Максимальна кількість переглядів:\", df_youtube[\"video_views\"].max())\n",
    "print(\"Мінімальна кількість переглядів:\", df_youtube[\"video_views\"].min())\n",
    "print(\"Середня кількість переглядів:\", df_youtube[\"video_views\"].mean())"
   ]
  },
  {
   "cell_type": "markdown",
   "metadata": {},
   "source": [
    "9. Знайдіть країну, де найбільше відео було завантажено на YouTube"
   ]
  },
  {
   "cell_type": "code",
   "execution_count": 14,
   "metadata": {},
   "outputs": [
    {
     "name": "stdout",
     "output_type": "stream",
     "text": [
      "Країна з найбільшою кількістю відео на YouTube: United States\n",
      "Кількість відео в цій країні: 313\n"
     ]
    }
   ],
   "source": [
    "country_video_counts = df_youtube.groupby(\"country\")[\"uploads\"].count()\n",
    "\n",
    "country = country_video_counts.idxmax()\n",
    "print(\"Країна з найбільшою кількістю відео на YouTube:\", country)\n",
    "video_count = country_video_counts.max()\n",
    "print(\"Кількість відео в цій країні:\", video_count)"
   ]
  },
  {
   "cell_type": "markdown",
   "metadata": {},
   "source": [
    "10. Знайдіть відео (виведіть його назву) з найбільшою та найменшою\n",
    "кількістю завантажень uploads."
   ]
  },
  {
   "cell_type": "code",
   "execution_count": 15,
   "metadata": {},
   "outputs": [
    {
     "name": "stdout",
     "output_type": "stream",
     "text": [
      "Відео з найбільшою кількістю завантажень: ABP NEWS\n",
      "Відео з найменшою кількістю завантажень: Music\n"
     ]
    }
   ],
   "source": [
    "max_uploads_index = df_youtube[\"uploads\"].idxmax()\n",
    "min_uploads_index = df_youtube[\"uploads\"].idxmin()\n",
    "\n",
    "video_with_max_uploads = df_youtube.loc[max_uploads_index, \"title\"]\n",
    "video_with_min_uploads = df_youtube.loc[min_uploads_index, \"title\"]\n",
    "\n",
    "print(\"Відео з найбільшою кількістю завантажень:\", video_with_max_uploads)\n",
    "print(\"Відео з найменшою кількістю завантажень:\", video_with_min_uploads)"
   ]
  },
  {
   "cell_type": "markdown",
   "metadata": {},
   "source": [
    "---\n",
    "\n",
    "### Завдання 2.\n",
    "Далі працюємо з файлом shopping_trends.csv"
   ]
  },
  {
   "cell_type": "markdown",
   "metadata": {},
   "source": [
    "Загрузіть цей файл. "
   ]
  },
  {
   "cell_type": "code",
   "execution_count": 16,
   "metadata": {},
   "outputs": [
    {
     "data": {
      "text/html": [
       "<div>\n",
       "<style scoped>\n",
       "    .dataframe tbody tr th:only-of-type {\n",
       "        vertical-align: middle;\n",
       "    }\n",
       "\n",
       "    .dataframe tbody tr th {\n",
       "        vertical-align: top;\n",
       "    }\n",
       "\n",
       "    .dataframe thead th {\n",
       "        text-align: right;\n",
       "    }\n",
       "</style>\n",
       "<table border=\"1\" class=\"dataframe\">\n",
       "  <thead>\n",
       "    <tr style=\"text-align: right;\">\n",
       "      <th></th>\n",
       "      <th>Customer ID</th>\n",
       "      <th>Age</th>\n",
       "      <th>Gender</th>\n",
       "      <th>Item Purchased</th>\n",
       "      <th>Category</th>\n",
       "      <th>Purchase Amount (USD)</th>\n",
       "      <th>Location</th>\n",
       "      <th>Size</th>\n",
       "      <th>Color</th>\n",
       "      <th>Season</th>\n",
       "      <th>Review Rating</th>\n",
       "      <th>Subscription Status</th>\n",
       "      <th>Payment Method</th>\n",
       "      <th>Shipping Type</th>\n",
       "      <th>Discount Applied</th>\n",
       "      <th>Promo Code Used</th>\n",
       "      <th>Previous Purchases</th>\n",
       "      <th>Preferred Payment Method</th>\n",
       "      <th>Frequency of Purchases</th>\n",
       "    </tr>\n",
       "  </thead>\n",
       "  <tbody>\n",
       "    <tr>\n",
       "      <th>0</th>\n",
       "      <td>1</td>\n",
       "      <td>55</td>\n",
       "      <td>Male</td>\n",
       "      <td>Blouse</td>\n",
       "      <td>Clothing</td>\n",
       "      <td>53</td>\n",
       "      <td>Kentucky</td>\n",
       "      <td>L</td>\n",
       "      <td>Gray</td>\n",
       "      <td>Winter</td>\n",
       "      <td>3.1</td>\n",
       "      <td>Yes</td>\n",
       "      <td>Credit Card</td>\n",
       "      <td>Express</td>\n",
       "      <td>Yes</td>\n",
       "      <td>Yes</td>\n",
       "      <td>14</td>\n",
       "      <td>Venmo</td>\n",
       "      <td>Fortnightly</td>\n",
       "    </tr>\n",
       "    <tr>\n",
       "      <th>1</th>\n",
       "      <td>2</td>\n",
       "      <td>19</td>\n",
       "      <td>Male</td>\n",
       "      <td>Sweater</td>\n",
       "      <td>Clothing</td>\n",
       "      <td>64</td>\n",
       "      <td>Maine</td>\n",
       "      <td>L</td>\n",
       "      <td>Maroon</td>\n",
       "      <td>Winter</td>\n",
       "      <td>3.1</td>\n",
       "      <td>Yes</td>\n",
       "      <td>Bank Transfer</td>\n",
       "      <td>Express</td>\n",
       "      <td>Yes</td>\n",
       "      <td>Yes</td>\n",
       "      <td>2</td>\n",
       "      <td>Cash</td>\n",
       "      <td>Fortnightly</td>\n",
       "    </tr>\n",
       "    <tr>\n",
       "      <th>2</th>\n",
       "      <td>3</td>\n",
       "      <td>50</td>\n",
       "      <td>Male</td>\n",
       "      <td>Jeans</td>\n",
       "      <td>Clothing</td>\n",
       "      <td>73</td>\n",
       "      <td>Massachusetts</td>\n",
       "      <td>S</td>\n",
       "      <td>Maroon</td>\n",
       "      <td>Spring</td>\n",
       "      <td>3.1</td>\n",
       "      <td>Yes</td>\n",
       "      <td>Cash</td>\n",
       "      <td>Free Shipping</td>\n",
       "      <td>Yes</td>\n",
       "      <td>Yes</td>\n",
       "      <td>23</td>\n",
       "      <td>Credit Card</td>\n",
       "      <td>Weekly</td>\n",
       "    </tr>\n",
       "    <tr>\n",
       "      <th>3</th>\n",
       "      <td>4</td>\n",
       "      <td>21</td>\n",
       "      <td>Male</td>\n",
       "      <td>Sandals</td>\n",
       "      <td>Footwear</td>\n",
       "      <td>90</td>\n",
       "      <td>Rhode Island</td>\n",
       "      <td>M</td>\n",
       "      <td>Maroon</td>\n",
       "      <td>Spring</td>\n",
       "      <td>3.5</td>\n",
       "      <td>Yes</td>\n",
       "      <td>PayPal</td>\n",
       "      <td>Next Day Air</td>\n",
       "      <td>Yes</td>\n",
       "      <td>Yes</td>\n",
       "      <td>49</td>\n",
       "      <td>PayPal</td>\n",
       "      <td>Weekly</td>\n",
       "    </tr>\n",
       "    <tr>\n",
       "      <th>4</th>\n",
       "      <td>5</td>\n",
       "      <td>45</td>\n",
       "      <td>Male</td>\n",
       "      <td>Blouse</td>\n",
       "      <td>Clothing</td>\n",
       "      <td>49</td>\n",
       "      <td>Oregon</td>\n",
       "      <td>M</td>\n",
       "      <td>Turquoise</td>\n",
       "      <td>Spring</td>\n",
       "      <td>2.7</td>\n",
       "      <td>Yes</td>\n",
       "      <td>Cash</td>\n",
       "      <td>Free Shipping</td>\n",
       "      <td>Yes</td>\n",
       "      <td>Yes</td>\n",
       "      <td>31</td>\n",
       "      <td>PayPal</td>\n",
       "      <td>Annually</td>\n",
       "    </tr>\n",
       "  </tbody>\n",
       "</table>\n",
       "</div>"
      ],
      "text/plain": [
       "   Customer ID  Age Gender Item Purchased  Category  Purchase Amount (USD)  \\\n",
       "0            1   55   Male         Blouse  Clothing                     53   \n",
       "1            2   19   Male        Sweater  Clothing                     64   \n",
       "2            3   50   Male          Jeans  Clothing                     73   \n",
       "3            4   21   Male        Sandals  Footwear                     90   \n",
       "4            5   45   Male         Blouse  Clothing                     49   \n",
       "\n",
       "        Location Size      Color  Season  Review Rating Subscription Status  \\\n",
       "0       Kentucky    L       Gray  Winter            3.1                 Yes   \n",
       "1          Maine    L     Maroon  Winter            3.1                 Yes   \n",
       "2  Massachusetts    S     Maroon  Spring            3.1                 Yes   \n",
       "3   Rhode Island    M     Maroon  Spring            3.5                 Yes   \n",
       "4         Oregon    M  Turquoise  Spring            2.7                 Yes   \n",
       "\n",
       "  Payment Method  Shipping Type Discount Applied Promo Code Used  \\\n",
       "0    Credit Card        Express              Yes             Yes   \n",
       "1  Bank Transfer        Express              Yes             Yes   \n",
       "2           Cash  Free Shipping              Yes             Yes   \n",
       "3         PayPal   Next Day Air              Yes             Yes   \n",
       "4           Cash  Free Shipping              Yes             Yes   \n",
       "\n",
       "   Previous Purchases Preferred Payment Method Frequency of Purchases  \n",
       "0                  14                    Venmo            Fortnightly  \n",
       "1                   2                     Cash            Fortnightly  \n",
       "2                  23              Credit Card                 Weekly  \n",
       "3                  49                   PayPal                 Weekly  \n",
       "4                  31                   PayPal               Annually  "
      ]
     },
     "execution_count": 16,
     "metadata": {},
     "output_type": "execute_result"
    }
   ],
   "source": [
    "df_trends = pd.read_csv(\"shopping_trends.csv\")\n",
    "df_trends.head()"
   ]
  },
  {
   "cell_type": "markdown",
   "metadata": {},
   "source": [
    "Перевірте:\n",
    "- розмір таблиці"
   ]
  },
  {
   "cell_type": "code",
   "execution_count": 17,
   "metadata": {},
   "outputs": [
    {
     "name": "stdout",
     "output_type": "stream",
     "text": [
      "Датасет містить 3900 рядків та 19 стовпців\n"
     ]
    }
   ],
   "source": [
    "rows, cols = df_trends.shape\n",
    "print(f\"Датасет містить {rows} рядків та {cols} стовпців\")"
   ]
  },
  {
   "cell_type": "markdown",
   "metadata": {},
   "source": [
    "- наявність пропусків"
   ]
  },
  {
   "cell_type": "code",
   "execution_count": 18,
   "metadata": {},
   "outputs": [
    {
     "name": "stdout",
     "output_type": "stream",
     "text": [
      "Кількість пропусків:\n"
     ]
    },
    {
     "data": {
      "text/plain": [
       "Customer ID                 0\n",
       "Age                         0\n",
       "Gender                      0\n",
       "Item Purchased              0\n",
       "Category                    0\n",
       "Purchase Amount (USD)       0\n",
       "Location                    0\n",
       "Size                        0\n",
       "Color                       0\n",
       "Season                      0\n",
       "Review Rating               0\n",
       "Subscription Status         0\n",
       "Payment Method              0\n",
       "Shipping Type               0\n",
       "Discount Applied            0\n",
       "Promo Code Used             0\n",
       "Previous Purchases          0\n",
       "Preferred Payment Method    0\n",
       "Frequency of Purchases      0\n",
       "dtype: int64"
      ]
     },
     "execution_count": 18,
     "metadata": {},
     "output_type": "execute_result"
    }
   ],
   "source": [
    "print(\"Кількість пропусків:\")\n",
    "df_trends.isna().sum()"
   ]
  },
  {
   "cell_type": "code",
   "execution_count": 19,
   "metadata": {},
   "outputs": [
    {
     "name": "stdout",
     "output_type": "stream",
     "text": [
      "Кількість дублікатів: 0\n"
     ]
    }
   ],
   "source": [
    "print(\"Кількість дублікатів:\", df_trends.duplicated().sum())"
   ]
  },
  {
   "cell_type": "markdown",
   "metadata": {},
   "source": [
    "- тип стовпців "
   ]
  },
  {
   "cell_type": "code",
   "execution_count": 20,
   "metadata": {},
   "outputs": [
    {
     "data": {
      "text/plain": [
       "Customer ID                   int64\n",
       "Age                           int64\n",
       "Gender                       object\n",
       "Item Purchased               object\n",
       "Category                     object\n",
       "Purchase Amount (USD)         int64\n",
       "Location                     object\n",
       "Size                         object\n",
       "Color                        object\n",
       "Season                       object\n",
       "Review Rating               float64\n",
       "Subscription Status          object\n",
       "Payment Method               object\n",
       "Shipping Type                object\n",
       "Discount Applied             object\n",
       "Promo Code Used              object\n",
       "Previous Purchases            int64\n",
       "Preferred Payment Method     object\n",
       "Frequency of Purchases       object\n",
       "dtype: object"
      ]
     },
     "execution_count": 20,
     "metadata": {},
     "output_type": "execute_result"
    }
   ],
   "source": [
    "df_trends.dtypes"
   ]
  },
  {
   "cell_type": "markdown",
   "metadata": {},
   "source": [
    "Перейменуйте назви стовпців: Змініть прописні букви на строчні\n",
    "(маленькі) та пробіл на підкреслення."
   ]
  },
  {
   "cell_type": "code",
   "execution_count": 21,
   "metadata": {},
   "outputs": [
    {
     "data": {
      "text/plain": [
       "Index(['customer_id', 'age', 'gender', 'item_purchased', 'category',\n",
       "       'purchase_amount_(usd)', 'location', 'size', 'color', 'season',\n",
       "       'review_rating', 'subscription_status', 'payment_method',\n",
       "       'shipping_type', 'discount_applied', 'promo_code_used',\n",
       "       'previous_purchases', 'preferred_payment_method',\n",
       "       'frequency_of_purchases'],\n",
       "      dtype='object')"
      ]
     },
     "execution_count": 21,
     "metadata": {},
     "output_type": "execute_result"
    }
   ],
   "source": [
    "df_trends.columns = df_trends.columns.str.replace(\" \", \"_\").str.lower()\n",
    "df_trends.columns"
   ]
  },
  {
   "cell_type": "markdown",
   "metadata": {},
   "source": [
    "Далі виконайте наступні завдання. Побудуйте графіки з використанням бібліотеки seaborn."
   ]
  },
  {
   "cell_type": "code",
   "execution_count": 22,
   "metadata": {},
   "outputs": [],
   "source": [
    "sns.set(style =\"whitegrid\")\n",
    "color_palette = sns.color_palette(\"pastel\")"
   ]
  },
  {
   "cell_type": "markdown",
   "metadata": {},
   "source": [
    "1. Гістограма віку (age)\n",
    "\n",
    "Побудуйте гістограму віку клієнтів, використовуючи Seaborn."
   ]
  },
  {
   "cell_type": "code",
   "execution_count": 23,
   "metadata": {},
   "outputs": [
    {
     "data": {
      "image/png": "[encoded data removed]",
      "text/plain": [
       "<Figure size 720x432 with 1 Axes>"
      ]
     },
     "metadata": {},
     "output_type": "display_data"
    }
   ],
   "source": [
    "plt.figure(figsize=(10, 6))\n",
    "sns.histplot(data=df_trends, x=\"age\", bins=20, color=\"#ffb482\")\n",
    "plt.title(\"Гістограма віку клієнтів\", fontsize=16, fontweight=\"bold\")\n",
    "plt.xlabel(\"Вік\", fontsize=14)\n",
    "plt.ylabel(\"Кількість клієнтів\", fontsize=14)\n",
    "plt.xticks(fontsize=12)\n",
    "plt.yticks(fontsize=12)\n",
    "\n",
    "plt.show()"
   ]
  },
  {
   "cell_type": "markdown",
   "metadata": {},
   "source": [
    "2. Порівняння розподілу покупок за статтею (item_purchased)\n",
    "\n",
    "Створіть стовпчасту діаграму або графік розподілу, щоб порівняти, які\n",
    "товари покупають клієнти найчастіше."
   ]
  },
  {
   "cell_type": "code",
   "execution_count": 24,
   "metadata": {},
   "outputs": [
    {
     "data": {
      "image/png": "[encoded data removed]",
      "text/plain": [
       "<Figure size 1152x1080 with 1 Axes>"
      ]
     },
     "metadata": {},
     "output_type": "display_data"
    }
   ],
   "source": [
    "plt.figure(figsize=(16, 15))\n",
    "\n",
    "sns.countplot(\n",
    "    data=df_trends,\n",
    "    y=\"item_purchased\",\n",
    "    hue=\"gender\",\n",
    "    order=df_trends[\"item_purchased\"].value_counts().index,\n",
    "    palette=color_palette,\n",
    ")\n",
    "# транспонувала для зручності\n",
    "\n",
    "plt.title(\"Розподіл покупок за статтю\", fontsize=20, fontweight=\"bold\")\n",
    "plt.xlabel(\"Кількість покупок\", fontsize=14)\n",
    "plt.ylabel(\"Товар\", fontsize=14)\n",
    "plt.legend(title=\"Гендер\", fontsize=20, title_fontsize=22)\n",
    "plt.grid(axis=\"y\", linestyle=\"--\", alpha=0.7)\n",
    "plt.show()"
   ]
  },
  {
   "cell_type": "markdown",
   "metadata": {},
   "source": [
    "3. Залежність між віком та сумою покупок (purchase_amount)\n",
    "\n",
    "Використовуйте scatter plot, щоб візуалізувати залежність між віком та\n",
    "сумою покупок."
   ]
  },
  {
   "cell_type": "code",
   "execution_count": 25,
   "metadata": {},
   "outputs": [
    {
     "data": {
      "image/png": "[encoded data removed]",
      "text/plain": [
       "<Figure size 720x432 with 1 Axes>"
      ]
     },
     "metadata": {},
     "output_type": "display_data"
    }
   ],
   "source": [
    "plt.figure(figsize=(10, 6))\n",
    "sns.scatterplot(data=df_trends, x=\"age\", y=\"purchase_amount_(usd)\", alpha=0.8, color=\"#d0bbff\")\n",
    "plt.title(\"Залежність між віком та сумою покупок\", fontsize=16)\n",
    "plt.xlabel(\"Вік\", fontsize=14)\n",
    "plt.ylabel(\"Сума покупок (USD)\", fontsize=14)\n",
    "plt.xticks(fontsize=12)\n",
    "plt.yticks(fontsize=12)\n",
    "plt.show()"
   ]
  },
  {
   "cell_type": "markdown",
   "metadata": {},
   "source": [
    "4. Графік розподілу оцінок товарів (review_rating)\n",
    "\n",
    "Побудуйте графік розподілу оцінок товарів для оцінки якості."
   ]
  },
  {
   "cell_type": "code",
   "execution_count": 26,
   "metadata": {},
   "outputs": [
    {
     "data": {
      "image/png": "[encoded data removed]",
      "text/plain": [
       "<Figure size 720x432 with 1 Axes>"
      ]
     },
     "metadata": {},
     "output_type": "display_data"
    }
   ],
   "source": [
    "plt.figure(figsize=(10, 6))\n",
    "sns.boxplot(data=df_trends, y=\"review_rating\", color=\"#a1c9f4\")\n",
    "plt.title(\"Розподіл оцінок товарів\", fontsize=16, fontweight=\"bold\")\n",
    "plt.xlabel(\"Оцінка\", fontsize=14)\n",
    "plt.ylabel(\"Оцінка\", fontsize=14)\n",
    "plt.xticks(fontsize=12)\n",
    "plt.yticks(fontsize=12)\n",
    "\n",
    "plt.show()"
   ]
  },
  {
   "cell_type": "markdown",
   "metadata": {},
   "source": [
    "- і можна подивитися за допомогою гістограми "
   ]
  },
  {
   "cell_type": "code",
   "execution_count": 27,
   "metadata": {},
   "outputs": [
    {
     "data": {
      "image/png": "[encoded data removed]",
      "text/plain": [
       "<Figure size 720x432 with 1 Axes>"
      ]
     },
     "metadata": {},
     "output_type": "display_data"
    }
   ],
   "source": [
    "plt.figure(figsize=(10, 6))\n",
    "sns.histplot(data=df_trends, x=\"review_rating\", bins=5, color=\"#8de5a1\", kde=False)\n",
    "plt.title(\"Розподіл оцінок товарів\", fontsize=16, fontweight=\"bold\")\n",
    "plt.xlabel(\"Оцінка\", fontsize=14)\n",
    "plt.ylabel(\"Кількість товарів\", fontsize=14)\n",
    "plt.xticks(fontsize=12)\n",
    "plt.yticks(fontsize=12)\n",
    "\n",
    "plt.show()"
   ]
  },
  {
   "cell_type": "markdown",
   "metadata": {},
   "source": [
    "5. Категоріальна діаграма для статі (gender)\n",
    "\n",
    "Створіть категоріальну діаграму, щоб відобразити розподіл покупок за\n",
    "статтею."
   ]
  },
  {
   "cell_type": "code",
   "execution_count": 28,
   "metadata": {},
   "outputs": [
    {
     "data": {
      "image/png": "[encoded data removed]",
      "text/plain": [
       "<Figure size 576x432 with 1 Axes>"
      ]
     },
     "metadata": {},
     "output_type": "display_data"
    }
   ],
   "source": [
    "plt.figure(figsize=(8, 6))\n",
    "sns.countplot(data=df_trends, x=\"gender\", palette=color_palette)\n",
    "plt.title(\"Розподіл покупок за статтю\", fontsize=16, fontweight=\"bold\")\n",
    "plt.xlabel(\"Стать\", fontsize=14)\n",
    "plt.ylabel(\"Кількість покупок\", fontsize=14)\n",
    "plt.xticks(fontsize=12)\n",
    "plt.yticks(fontsize=12)\n",
    "plt.show()"
   ]
  },
  {
   "cell_type": "markdown",
   "metadata": {},
   "source": [
    "6. Залежність між рейтингом і сумою покупок (review_rating і\n",
    "purchase_amount)"
   ]
  },
  {
   "cell_type": "code",
   "execution_count": 29,
   "metadata": {},
   "outputs": [
    {
     "data": {
      "image/png": "[encoded data removed]",
      "text/plain": [
       "<Figure size 720x432 with 1 Axes>"
      ]
     },
     "metadata": {},
     "output_type": "display_data"
    }
   ],
   "source": [
    "plt.figure(figsize=(10, 6))\n",
    "\n",
    "sns.scatterplot(data=df_trends,\n",
    "    x=\"review_rating\",\n",
    "    y=\"purchase_amount_(usd)\",\n",
    "    alpha=0.5,\n",
    "    color=\"#ffb482\")\n",
    "\n",
    "plt.title(\"Залежність між рейтингом і сумою покупок\", fontsize=16)\n",
    "plt.xlabel(\"Рейтинг товару\", fontsize=14)\n",
    "plt.ylabel(\"Сума покупок (USD)\", fontsize=14)\n",
    "plt.xticks(fontsize=12)\n",
    "plt.yticks(fontsize=12)\n",
    "plt.show()"
   ]
  },
  {
   "cell_type": "markdown",
   "metadata": {},
   "source": [
    "---\n",
    "### Завдання 3"
   ]
  },
  {
   "cell_type": "markdown",
   "metadata": {},
   "source": [
    "1. Створіть горизонтальну діаграму з мітками на основі даних про\n",
    "врожайність пшениці (data.wheat()) за допомогою бібліотеки Altair.\n",
    "Задайте вісь x для врожайності пшениці, вісь y для років, а текстові\n",
    "мітки відображайте значення врожайності пшениці на відповідних\n",
    "роках."
   ]
  },
  {
   "cell_type": "code",
   "execution_count": 30,
   "metadata": {},
   "outputs": [
    {
     "data": {
      "text/html": [
       "<div>\n",
       "<style scoped>\n",
       "    .dataframe tbody tr th:only-of-type {\n",
       "        vertical-align: middle;\n",
       "    }\n",
       "\n",
       "    .dataframe tbody tr th {\n",
       "        vertical-align: top;\n",
       "    }\n",
       "\n",
       "    .dataframe thead th {\n",
       "        text-align: right;\n",
       "    }\n",
       "</style>\n",
       "<table border=\"1\" class=\"dataframe\">\n",
       "  <thead>\n",
       "    <tr style=\"text-align: right;\">\n",
       "      <th></th>\n",
       "      <th>year</th>\n",
       "      <th>wheat</th>\n",
       "      <th>wages</th>\n",
       "    </tr>\n",
       "  </thead>\n",
       "  <tbody>\n",
       "    <tr>\n",
       "      <th>0</th>\n",
       "      <td>1565</td>\n",
       "      <td>41.0</td>\n",
       "      <td>5.00</td>\n",
       "    </tr>\n",
       "    <tr>\n",
       "      <th>1</th>\n",
       "      <td>1570</td>\n",
       "      <td>45.0</td>\n",
       "      <td>5.05</td>\n",
       "    </tr>\n",
       "    <tr>\n",
       "      <th>2</th>\n",
       "      <td>1575</td>\n",
       "      <td>42.0</td>\n",
       "      <td>5.08</td>\n",
       "    </tr>\n",
       "    <tr>\n",
       "      <th>3</th>\n",
       "      <td>1580</td>\n",
       "      <td>49.0</td>\n",
       "      <td>5.12</td>\n",
       "    </tr>\n",
       "    <tr>\n",
       "      <th>4</th>\n",
       "      <td>1585</td>\n",
       "      <td>41.5</td>\n",
       "      <td>5.15</td>\n",
       "    </tr>\n",
       "  </tbody>\n",
       "</table>\n",
       "</div>"
      ],
      "text/plain": [
       "   year  wheat  wages\n",
       "0  1565   41.0   5.00\n",
       "1  1570   45.0   5.05\n",
       "2  1575   42.0   5.08\n",
       "3  1580   49.0   5.12\n",
       "4  1585   41.5   5.15"
      ]
     },
     "execution_count": 30,
     "metadata": {},
     "output_type": "execute_result"
    }
   ],
   "source": [
    "source = data.wheat()\n",
    "source.head()"
   ]
  },
  {
   "cell_type": "code",
   "execution_count": 31,
   "metadata": {},
   "outputs": [
    {
     "data": {
      "text/html": [
       "\n",
       "<div id=\"altair-viz-a4b25e5776a94b6a90fa43c6488653f3\"></div>\n",
       "<script type=\"text/javascript\">\n",
       "  var VEGA_DEBUG = (typeof VEGA_DEBUG == \"undefined\") ? {} : VEGA_DEBUG;\n",
       "  (function(spec, embedOpt){\n",
       "    let outputDiv = document.currentScript.previousElementSibling;\n",
       "    if (outputDiv.id !== \"altair-viz-a4b25e5776a94b6a90fa43c6488653f3\") {\n",
       "      outputDiv = document.getElementById(\"altair-viz-a4b25e5776a94b6a90fa43c6488653f3\");\n",
       "    }\n",
       "    const paths = {\n",
       "      \"vega\": \"https://cdn.jsdelivr.net/npm//vega@5?noext\",\n",
       "      \"vega-lib\": \"https://cdn.jsdelivr.net/npm//vega-lib?noext\",\n",
       "      \"vega-lite\": \"https://cdn.jsdelivr.net/npm//vega-lite@4.17.0?noext\",\n",
       "      \"vega-embed\": \"https://cdn.jsdelivr.net/npm//vega-embed@6?noext\",\n",
       "    };\n",
       "\n",
       "    function maybeLoadScript(lib, version) {\n",
       "      var key = `${lib.replace(\"-\", \"\")}_version`;\n",
       "      return (VEGA_DEBUG[key] == version) ?\n",
       "        Promise.resolve(paths[lib]) :\n",
       "        new Promise(function(resolve, reject) {\n",
       "          var s = document.createElement('script');\n",
       "          document.getElementsByTagName(\"head\")[0].appendChild(s);\n",
       "          s.async = true;\n",
       "          s.onload = () => {\n",
       "            VEGA_DEBUG[key] = version;\n",
       "            return resolve(paths[lib]);\n",
       "          };\n",
       "          s.onerror = () => reject(`Error loading script: ${paths[lib]}`);\n",
       "          s.src = paths[lib];\n",
       "        });\n",
       "    }\n",
       "\n",
       "    function showError(err) {\n",
       "      outputDiv.innerHTML = `<div class=\"error\" style=\"color:red;\">${err}</div>`;\n",
       "      throw err;\n",
       "    }\n",
       "\n",
       "    function displayChart(vegaEmbed) {\n",
       "      vegaEmbed(outputDiv, spec, embedOpt)\n",
       "        .catch(err => showError(`Javascript Error: ${err.message}<br>This usually means there's a typo in your chart specification. See the javascript console for the full traceback.`));\n",
       "    }\n",
       "\n",
       "    if(typeof define === \"function\" && define.amd) {\n",
       "      requirejs.config({paths});\n",
       "      require([\"vega-embed\"], displayChart, err => showError(`Error loading script: ${err.message}`));\n",
       "    } else {\n",
       "      maybeLoadScript(\"vega\", \"5\")\n",
       "        .then(() => maybeLoadScript(\"vega-lite\", \"4.17.0\"))\n",
       "        .then(() => maybeLoadScript(\"vega-embed\", \"6\"))\n",
       "        .catch(showError)\n",
       "        .then(() => displayChart(vegaEmbed));\n",
       "    }\n",
       "  })({\"config\": {\"view\": {\"continuousWidth\": 400, \"continuousHeight\": 300}, \"axis\": {\"labelFontSize\": 14, \"titleFontSize\": 14}, \"title\": {\"fontSize\": 20}}, \"layer\": [{\"mark\": \"bar\", \"encoding\": {\"color\": {\"value\": \"darkblue\"}, \"text\": {\"field\": \"wheat\", \"type\": \"quantitative\"}, \"x\": {\"field\": \"wheat\", \"type\": \"quantitative\"}, \"y\": {\"field\": \"year\", \"type\": \"ordinal\"}}, \"height\": 700, \"title\": \"\\u0412\\u0440\\u043e\\u0436\\u0430\\u0439\\u043d\\u0456\\u0441\\u0442\\u044c \\u043f\\u0448\\u0435\\u043d\\u0438\\u0446\\u0456 \\u0437\\u0430 \\u0440\\u043e\\u043a\\u0430\\u043c\\u0438\", \"width\": 600}, {\"mark\": {\"type\": \"text\", \"align\": \"left\", \"dx\": 2}, \"encoding\": {\"color\": {\"value\": \"darkblue\"}, \"text\": {\"field\": \"wheat\", \"type\": \"quantitative\"}, \"x\": {\"field\": \"wheat\", \"type\": \"quantitative\"}, \"y\": {\"field\": \"year\", \"type\": \"ordinal\"}}, \"height\": 700, \"title\": \"\\u0412\\u0440\\u043e\\u0436\\u0430\\u0439\\u043d\\u0456\\u0441\\u0442\\u044c \\u043f\\u0448\\u0435\\u043d\\u0438\\u0446\\u0456 \\u0437\\u0430 \\u0440\\u043e\\u043a\\u0430\\u043c\\u0438\", \"width\": 600}], \"data\": {\"name\": \"data-76d1ce26ea5761007c35827e1564d86c\"}, \"encoding\": {\"x\": {\"field\": \"wheat\", \"title\": \"\\u0412\\u0440\\u043e\\u0436\\u0430\\u0439\\u043d\\u0456\\u0441\\u0442\\u044c \\u043f\\u0448\\u0435\\u043d\\u0438\\u0446\\u0456\", \"type\": \"quantitative\"}, \"y\": {\"field\": \"year\", \"title\": \"\\u0420\\u043e\\u043a\\u0438\", \"type\": \"ordinal\"}}, \"$schema\": \"https://vega.github.io/schema/vega-lite/v4.17.0.json\", \"datasets\": {\"data-76d1ce26ea5761007c35827e1564d86c\": [{\"year\": 1565, \"wheat\": 41.0, \"wages\": 5.0}, {\"year\": 1570, \"wheat\": 45.0, \"wages\": 5.05}, {\"year\": 1575, \"wheat\": 42.0, \"wages\": 5.08}, {\"year\": 1580, \"wheat\": 49.0, \"wages\": 5.12}, {\"year\": 1585, \"wheat\": 41.5, \"wages\": 5.15}, {\"year\": 1590, \"wheat\": 47.0, \"wages\": 5.25}, {\"year\": 1595, \"wheat\": 64.0, \"wages\": 5.54}, {\"year\": 1600, \"wheat\": 27.0, \"wages\": 5.61}, {\"year\": 1605, \"wheat\": 33.0, \"wages\": 5.69}, {\"year\": 1610, \"wheat\": 32.0, \"wages\": 5.78}, {\"year\": 1615, \"wheat\": 33.0, \"wages\": 5.94}, {\"year\": 1620, \"wheat\": 35.0, \"wages\": 6.01}, {\"year\": 1625, \"wheat\": 33.0, \"wages\": 6.12}, {\"year\": 1630, \"wheat\": 45.0, \"wages\": 6.22}, {\"year\": 1635, \"wheat\": 33.0, \"wages\": 6.3}, {\"year\": 1640, \"wheat\": 39.0, \"wages\": 6.37}, {\"year\": 1645, \"wheat\": 53.0, \"wages\": 6.45}, {\"year\": 1650, \"wheat\": 42.0, \"wages\": 6.5}, {\"year\": 1655, \"wheat\": 40.5, \"wages\": 6.6}, {\"year\": 1660, \"wheat\": 46.5, \"wages\": 6.75}, {\"year\": 1665, \"wheat\": 32.0, \"wages\": 6.8}, {\"year\": 1670, \"wheat\": 37.0, \"wages\": 6.9}, {\"year\": 1675, \"wheat\": 43.0, \"wages\": 7.0}, {\"year\": 1680, \"wheat\": 35.0, \"wages\": 7.3}, {\"year\": 1685, \"wheat\": 27.0, \"wages\": 7.6}, {\"year\": 1690, \"wheat\": 40.0, \"wages\": 8.0}, {\"year\": 1695, \"wheat\": 50.0, \"wages\": 8.5}, {\"year\": 1700, \"wheat\": 30.0, \"wages\": 9.0}, {\"year\": 1705, \"wheat\": 32.0, \"wages\": 10.0}, {\"year\": 1710, \"wheat\": 44.0, \"wages\": 11.0}, {\"year\": 1715, \"wheat\": 33.0, \"wages\": 11.75}, {\"year\": 1720, \"wheat\": 29.0, \"wages\": 12.5}, {\"year\": 1725, \"wheat\": 39.0, \"wages\": 13.0}, {\"year\": 1730, \"wheat\": 26.0, \"wages\": 13.3}, {\"year\": 1735, \"wheat\": 32.0, \"wages\": 13.6}, {\"year\": 1740, \"wheat\": 27.0, \"wages\": 14.0}, {\"year\": 1745, \"wheat\": 27.5, \"wages\": 14.5}, {\"year\": 1750, \"wheat\": 31.0, \"wages\": 15.0}, {\"year\": 1755, \"wheat\": 35.5, \"wages\": 15.7}, {\"year\": 1760, \"wheat\": 31.0, \"wages\": 16.5}, {\"year\": 1765, \"wheat\": 43.0, \"wages\": 17.6}, {\"year\": 1770, \"wheat\": 47.0, \"wages\": 18.5}, {\"year\": 1775, \"wheat\": 44.0, \"wages\": 19.5}, {\"year\": 1780, \"wheat\": 46.0, \"wages\": 21.0}, {\"year\": 1785, \"wheat\": 42.0, \"wages\": 23.0}, {\"year\": 1790, \"wheat\": 47.5, \"wages\": 25.5}, {\"year\": 1795, \"wheat\": 76.0, \"wages\": 27.5}, {\"year\": 1800, \"wheat\": 79.0, \"wages\": 28.5}, {\"year\": 1805, \"wheat\": 81.0, \"wages\": 29.5}, {\"year\": 1810, \"wheat\": 99.0, \"wages\": 30.0}, {\"year\": 1815, \"wheat\": 78.0, \"wages\": null}, {\"year\": 1820, \"wheat\": 54.0, \"wages\": null}]}}, {\"mode\": \"vega-lite\"});\n",
       "</script>"
      ],
      "text/plain": [
       "alt.LayerChart(...)"
      ]
     },
     "metadata": {},
     "output_type": "display_data"
    }
   ],
   "source": [
    "bar_chart = (\n",
    "    alt.Chart(source)\n",
    "    .mark_bar()\n",
    "    .encode(x=\"wheat:Q\", y=\"year:O\", text=\"wheat:Q\", color=alt.value(\"darkblue\"))\n",
    "    .properties(title=\"Врожайність пшениці за роками\", width=600, height=700)\n",
    ")\n",
    "\n",
    "chart = bar_chart.mark_bar() + bar_chart.mark_text(align=\"left\", dx=2)\n",
    "\n",
    "chart = chart.configure_axis(labelFontSize=14, titleFontSize=14).configure_title(fontSize=20)\n",
    "\n",
    "chart = chart.encode(x=alt.X(\"wheat:Q\", title=\"Врожайність пшениці\"), \n",
    "                     y=alt.Y(\"year:O\", title=\"Роки\"))\n",
    "\n",
    "chart.display()"
   ]
  },
  {
   "cell_type": "markdown",
   "metadata": {},
   "source": [
    "2. Створіть багатошарову діаграму на основі даних про виробництво\n",
    "електроенергії в штаті Айова (data.iowa_electricity()) за допомогою\n",
    "бібліотеки Altair . Вісь x представляє роки, вісь y відображає чисте\n",
    "виробництво електроенергії (net_generation), а кожен шар діаграми\n",
    "позначає різні джерела енергії (source). Встановіть прозорість (opacity)\n",
    "для стовпців на рівні 0.7."
   ]
  },
  {
   "cell_type": "code",
   "execution_count": 32,
   "metadata": {},
   "outputs": [
    {
     "data": {
      "text/html": [
       "<div>\n",
       "<style scoped>\n",
       "    .dataframe tbody tr th:only-of-type {\n",
       "        vertical-align: middle;\n",
       "    }\n",
       "\n",
       "    .dataframe tbody tr th {\n",
       "        vertical-align: top;\n",
       "    }\n",
       "\n",
       "    .dataframe thead th {\n",
       "        text-align: right;\n",
       "    }\n",
       "</style>\n",
       "<table border=\"1\" class=\"dataframe\">\n",
       "  <thead>\n",
       "    <tr style=\"text-align: right;\">\n",
       "      <th></th>\n",
       "      <th>year</th>\n",
       "      <th>source</th>\n",
       "      <th>net_generation</th>\n",
       "    </tr>\n",
       "  </thead>\n",
       "  <tbody>\n",
       "    <tr>\n",
       "      <th>0</th>\n",
       "      <td>2001-01-01</td>\n",
       "      <td>Fossil Fuels</td>\n",
       "      <td>35361</td>\n",
       "    </tr>\n",
       "    <tr>\n",
       "      <th>1</th>\n",
       "      <td>2002-01-01</td>\n",
       "      <td>Fossil Fuels</td>\n",
       "      <td>35991</td>\n",
       "    </tr>\n",
       "    <tr>\n",
       "      <th>2</th>\n",
       "      <td>2003-01-01</td>\n",
       "      <td>Fossil Fuels</td>\n",
       "      <td>36234</td>\n",
       "    </tr>\n",
       "    <tr>\n",
       "      <th>3</th>\n",
       "      <td>2004-01-01</td>\n",
       "      <td>Fossil Fuels</td>\n",
       "      <td>36205</td>\n",
       "    </tr>\n",
       "    <tr>\n",
       "      <th>4</th>\n",
       "      <td>2005-01-01</td>\n",
       "      <td>Fossil Fuels</td>\n",
       "      <td>36883</td>\n",
       "    </tr>\n",
       "  </tbody>\n",
       "</table>\n",
       "</div>"
      ],
      "text/plain": [
       "        year        source  net_generation\n",
       "0 2001-01-01  Fossil Fuels           35361\n",
       "1 2002-01-01  Fossil Fuels           35991\n",
       "2 2003-01-01  Fossil Fuels           36234\n",
       "3 2004-01-01  Fossil Fuels           36205\n",
       "4 2005-01-01  Fossil Fuels           36883"
      ]
     },
     "execution_count": 32,
     "metadata": {},
     "output_type": "execute_result"
    }
   ],
   "source": [
    "source = data.iowa_electricity()\n",
    "source.head()"
   ]
  },
  {
   "cell_type": "code",
   "execution_count": 33,
   "metadata": {},
   "outputs": [
    {
     "data": {
      "text/html": [
       "<div>\n",
       "<style scoped>\n",
       "    .dataframe tbody tr th:only-of-type {\n",
       "        vertical-align: middle;\n",
       "    }\n",
       "\n",
       "    .dataframe tbody tr th {\n",
       "        vertical-align: top;\n",
       "    }\n",
       "\n",
       "    .dataframe thead th {\n",
       "        text-align: right;\n",
       "    }\n",
       "</style>\n",
       "<table border=\"1\" class=\"dataframe\">\n",
       "  <thead>\n",
       "    <tr style=\"text-align: right;\">\n",
       "      <th></th>\n",
       "      <th>year</th>\n",
       "      <th>source</th>\n",
       "      <th>net_generation</th>\n",
       "    </tr>\n",
       "  </thead>\n",
       "  <tbody>\n",
       "    <tr>\n",
       "      <th>0</th>\n",
       "      <td>2001</td>\n",
       "      <td>Fossil Fuels</td>\n",
       "      <td>35361</td>\n",
       "    </tr>\n",
       "    <tr>\n",
       "      <th>1</th>\n",
       "      <td>2002</td>\n",
       "      <td>Fossil Fuels</td>\n",
       "      <td>35991</td>\n",
       "    </tr>\n",
       "    <tr>\n",
       "      <th>2</th>\n",
       "      <td>2003</td>\n",
       "      <td>Fossil Fuels</td>\n",
       "      <td>36234</td>\n",
       "    </tr>\n",
       "    <tr>\n",
       "      <th>3</th>\n",
       "      <td>2004</td>\n",
       "      <td>Fossil Fuels</td>\n",
       "      <td>36205</td>\n",
       "    </tr>\n",
       "    <tr>\n",
       "      <th>4</th>\n",
       "      <td>2005</td>\n",
       "      <td>Fossil Fuels</td>\n",
       "      <td>36883</td>\n",
       "    </tr>\n",
       "  </tbody>\n",
       "</table>\n",
       "</div>"
      ],
      "text/plain": [
       "   year        source  net_generation\n",
       "0  2001  Fossil Fuels           35361\n",
       "1  2002  Fossil Fuels           35991\n",
       "2  2003  Fossil Fuels           36234\n",
       "3  2004  Fossil Fuels           36205\n",
       "4  2005  Fossil Fuels           36883"
      ]
     },
     "execution_count": 33,
     "metadata": {},
     "output_type": "execute_result"
    }
   ],
   "source": [
    "source[\"year\"] = pd.to_datetime(source[\"year\"]).dt.year\n",
    "source.head()"
   ]
  },
  {
   "cell_type": "code",
   "execution_count": 37,
   "metadata": {},
   "outputs": [
    {
     "data": {
      "text/html": [
       "\n",
       "<div id=\"altair-viz-17f47117e82c4dda8ca54740af05ab48\"></div>\n",
       "<script type=\"text/javascript\">\n",
       "  var VEGA_DEBUG = (typeof VEGA_DEBUG == \"undefined\") ? {} : VEGA_DEBUG;\n",
       "  (function(spec, embedOpt){\n",
       "    let outputDiv = document.currentScript.previousElementSibling;\n",
       "    if (outputDiv.id !== \"altair-viz-17f47117e82c4dda8ca54740af05ab48\") {\n",
       "      outputDiv = document.getElementById(\"altair-viz-17f47117e82c4dda8ca54740af05ab48\");\n",
       "    }\n",
       "    const paths = {\n",
       "      \"vega\": \"https://cdn.jsdelivr.net/npm//vega@5?noext\",\n",
       "      \"vega-lib\": \"https://cdn.jsdelivr.net/npm//vega-lib?noext\",\n",
       "      \"vega-lite\": \"https://cdn.jsdelivr.net/npm//vega-lite@4.17.0?noext\",\n",
       "      \"vega-embed\": \"https://cdn.jsdelivr.net/npm//vega-embed@6?noext\",\n",
       "    };\n",
       "\n",
       "    function maybeLoadScript(lib, version) {\n",
       "      var key = `${lib.replace(\"-\", \"\")}_version`;\n",
       "      return (VEGA_DEBUG[key] == version) ?\n",
       "        Promise.resolve(paths[lib]) :\n",
       "        new Promise(function(resolve, reject) {\n",
       "          var s = document.createElement('script');\n",
       "          document.getElementsByTagName(\"head\")[0].appendChild(s);\n",
       "          s.async = true;\n",
       "          s.onload = () => {\n",
       "            VEGA_DEBUG[key] = version;\n",
       "            return resolve(paths[lib]);\n",
       "          };\n",
       "          s.onerror = () => reject(`Error loading script: ${paths[lib]}`);\n",
       "          s.src = paths[lib];\n",
       "        });\n",
       "    }\n",
       "\n",
       "    function showError(err) {\n",
       "      outputDiv.innerHTML = `<div class=\"error\" style=\"color:red;\">${err}</div>`;\n",
       "      throw err;\n",
       "    }\n",
       "\n",
       "    function displayChart(vegaEmbed) {\n",
       "      vegaEmbed(outputDiv, spec, embedOpt)\n",
       "        .catch(err => showError(`Javascript Error: ${err.message}<br>This usually means there's a typo in your chart specification. See the javascript console for the full traceback.`));\n",
       "    }\n",
       "\n",
       "    if(typeof define === \"function\" && define.amd) {\n",
       "      requirejs.config({paths});\n",
       "      require([\"vega-embed\"], displayChart, err => showError(`Error loading script: ${err.message}`));\n",
       "    } else {\n",
       "      maybeLoadScript(\"vega\", \"5\")\n",
       "        .then(() => maybeLoadScript(\"vega-lite\", \"4.17.0\"))\n",
       "        .then(() => maybeLoadScript(\"vega-embed\", \"6\"))\n",
       "        .catch(showError)\n",
       "        .then(() => displayChart(vegaEmbed));\n",
       "    }\n",
       "  })({\"config\": {\"view\": {\"continuousWidth\": 400, \"continuousHeight\": 300}, \"axis\": {\"labelFontSize\": 12, \"titleFontSize\": 14}, \"title\": {\"fontSize\": 20}}, \"data\": {\"name\": \"data-b0b4d4767de16f5a684c60cedfc20ccc\"}, \"mark\": {\"type\": \"bar\", \"opacity\": 0.7}, \"encoding\": {\"color\": {\"field\": \"source\", \"type\": \"nominal\"}, \"x\": {\"axis\": {\"labelAngle\": -45}, \"field\": \"year\", \"title\": \"\\u0420\\u043e\\u043a\\u0438\", \"type\": \"ordinal\"}, \"y\": {\"field\": \"net_generation\", \"title\": \"\\u041a\\u0456\\u043b\\u044c\\u043a\\u0456\\u0441\\u0442\\u044c \\u0435\\u043b\\u0435\\u043a\\u0442\\u0440\\u043e\\u0435\\u043d\\u0435\\u0440\\u0433\\u0456\\u0457\", \"type\": \"quantitative\"}}, \"height\": 400, \"title\": \"\\u0412\\u0438\\u0440\\u043e\\u0431\\u043d\\u0438\\u0446\\u0442\\u0432\\u043e \\u0435\\u043b\\u0435\\u043a\\u0442\\u0440\\u043e\\u0435\\u043d\\u0435\\u0440\\u0433\\u0456\\u0457 \\u0432 \\u0448\\u0442\\u0430\\u0442\\u0456 \\u0410\\u0439\\u043e\\u0432\\u0430\", \"width\": 700, \"$schema\": \"https://vega.github.io/schema/vega-lite/v4.17.0.json\", \"datasets\": {\"data-b0b4d4767de16f5a684c60cedfc20ccc\": [{\"year\": 2001, \"source\": \"Fossil Fuels\", \"net_generation\": 35361}, {\"year\": 2002, \"source\": \"Fossil Fuels\", \"net_generation\": 35991}, {\"year\": 2003, \"source\": \"Fossil Fuels\", \"net_generation\": 36234}, {\"year\": 2004, \"source\": \"Fossil Fuels\", \"net_generation\": 36205}, {\"year\": 2005, \"source\": \"Fossil Fuels\", \"net_generation\": 36883}, {\"year\": 2006, \"source\": \"Fossil Fuels\", \"net_generation\": 37014}, {\"year\": 2007, \"source\": \"Fossil Fuels\", \"net_generation\": 41389}, {\"year\": 2008, \"source\": \"Fossil Fuels\", \"net_generation\": 42734}, {\"year\": 2009, \"source\": \"Fossil Fuels\", \"net_generation\": 38620}, {\"year\": 2010, \"source\": \"Fossil Fuels\", \"net_generation\": 42750}, {\"year\": 2011, \"source\": \"Fossil Fuels\", \"net_generation\": 39361}, {\"year\": 2012, \"source\": \"Fossil Fuels\", \"net_generation\": 37379}, {\"year\": 2013, \"source\": \"Fossil Fuels\", \"net_generation\": 34873}, {\"year\": 2014, \"source\": \"Fossil Fuels\", \"net_generation\": 35250}, {\"year\": 2015, \"source\": \"Fossil Fuels\", \"net_generation\": 32319}, {\"year\": 2016, \"source\": \"Fossil Fuels\", \"net_generation\": 28437}, {\"year\": 2017, \"source\": \"Fossil Fuels\", \"net_generation\": 29329}, {\"year\": 2001, \"source\": \"Nuclear Energy\", \"net_generation\": 3853}, {\"year\": 2002, \"source\": \"Nuclear Energy\", \"net_generation\": 4574}, {\"year\": 2003, \"source\": \"Nuclear Energy\", \"net_generation\": 3988}, {\"year\": 2004, \"source\": \"Nuclear Energy\", \"net_generation\": 4929}, {\"year\": 2005, \"source\": \"Nuclear Energy\", \"net_generation\": 4538}, {\"year\": 2006, \"source\": \"Nuclear Energy\", \"net_generation\": 5095}, {\"year\": 2007, \"source\": \"Nuclear Energy\", \"net_generation\": 4519}, {\"year\": 2008, \"source\": \"Nuclear Energy\", \"net_generation\": 5282}, {\"year\": 2009, \"source\": \"Nuclear Energy\", \"net_generation\": 4679}, {\"year\": 2010, \"source\": \"Nuclear Energy\", \"net_generation\": 4451}, {\"year\": 2011, \"source\": \"Nuclear Energy\", \"net_generation\": 5215}, {\"year\": 2012, \"source\": \"Nuclear Energy\", \"net_generation\": 4347}, {\"year\": 2013, \"source\": \"Nuclear Energy\", \"net_generation\": 5321}, {\"year\": 2014, \"source\": \"Nuclear Energy\", \"net_generation\": 4152}, {\"year\": 2015, \"source\": \"Nuclear Energy\", \"net_generation\": 5243}, {\"year\": 2016, \"source\": \"Nuclear Energy\", \"net_generation\": 4703}, {\"year\": 2017, \"source\": \"Nuclear Energy\", \"net_generation\": 5214}, {\"year\": 2001, \"source\": \"Renewables\", \"net_generation\": 1437}, {\"year\": 2002, \"source\": \"Renewables\", \"net_generation\": 1963}, {\"year\": 2003, \"source\": \"Renewables\", \"net_generation\": 1885}, {\"year\": 2004, \"source\": \"Renewables\", \"net_generation\": 2102}, {\"year\": 2005, \"source\": \"Renewables\", \"net_generation\": 2724}, {\"year\": 2006, \"source\": \"Renewables\", \"net_generation\": 3364}, {\"year\": 2007, \"source\": \"Renewables\", \"net_generation\": 3870}, {\"year\": 2008, \"source\": \"Renewables\", \"net_generation\": 5070}, {\"year\": 2009, \"source\": \"Renewables\", \"net_generation\": 8560}, {\"year\": 2010, \"source\": \"Renewables\", \"net_generation\": 10308}, {\"year\": 2011, \"source\": \"Renewables\", \"net_generation\": 11795}, {\"year\": 2012, \"source\": \"Renewables\", \"net_generation\": 14949}, {\"year\": 2013, \"source\": \"Renewables\", \"net_generation\": 16476}, {\"year\": 2014, \"source\": \"Renewables\", \"net_generation\": 17452}, {\"year\": 2015, \"source\": \"Renewables\", \"net_generation\": 19091}, {\"year\": 2016, \"source\": \"Renewables\", \"net_generation\": 21241}, {\"year\": 2017, \"source\": \"Renewables\", \"net_generation\": 21933}]}}, {\"mode\": \"vega-lite\"});\n",
       "</script>"
      ],
      "text/plain": [
       "alt.Chart(...)"
      ]
     },
     "metadata": {},
     "output_type": "display_data"
    }
   ],
   "source": [
    "chart_iowa = (\n",
    "    alt.Chart(source)\n",
    "    .mark_bar(opacity=0.7)\n",
    "    .encode(\n",
    "        x=alt.X(\"year:O\", title=\"Роки\", axis=alt.Axis(labelAngle=-45)),\n",
    "        y=alt.Y(\"net_generation:Q\", title=\"Кількість електроенергії\"),\n",
    "        color=\"source:N\"\n",
    "        )\n",
    "    .properties(\n",
    "        title=\"Виробництво електроенергії в штаті Айова\",\n",
    "        width=700,\n",
    "        height=400\n",
    "        )\n",
    "    \n",
    "    .configure_axis(labelFontSize=12, titleFontSize=14)\n",
    "    .configure_title(fontSize=20)\n",
    ")\n",
    "\n",
    "chart_iowa.display()"
   ]
  },
  {
   "cell_type": "markdown",
   "metadata": {},
   "source": [
    "3. Створіть графік за допомогою бібліотеки Plotly (scatter plot) для даних\n",
    "ірисів (iris dataset), де:\n",
    "- Вісь X (x-axis) відповідає ширині чашелистика (sepal width).\n",
    "- Вісь Y (y-axis) відповідає довжині чашелистика (sepal length).\n",
    "- Кожен пункт на графіку має розмір, який залежить від довжини\n",
    "пелюстки (petal length).\n",
    "- Кожен пункт на графіку має різний колір в залежності від виду\n",
    "(species).\n",
    "- При наведенні на пункт повинні відображатися додаткові дані, такі як\n",
    "ширина пелюстки (petal width)"
   ]
  },
  {
   "cell_type": "code",
   "execution_count": 35,
   "metadata": {},
   "outputs": [
    {
     "data": {
      "text/html": [
       "<div>\n",
       "<style scoped>\n",
       "    .dataframe tbody tr th:only-of-type {\n",
       "        vertical-align: middle;\n",
       "    }\n",
       "\n",
       "    .dataframe tbody tr th {\n",
       "        vertical-align: top;\n",
       "    }\n",
       "\n",
       "    .dataframe thead th {\n",
       "        text-align: right;\n",
       "    }\n",
       "</style>\n",
       "<table border=\"1\" class=\"dataframe\">\n",
       "  <thead>\n",
       "    <tr style=\"text-align: right;\">\n",
       "      <th></th>\n",
       "      <th>sepal_length</th>\n",
       "      <th>sepal_width</th>\n",
       "      <th>petal_length</th>\n",
       "      <th>petal_width</th>\n",
       "      <th>species</th>\n",
       "      <th>species_id</th>\n",
       "    </tr>\n",
       "  </thead>\n",
       "  <tbody>\n",
       "    <tr>\n",
       "      <th>0</th>\n",
       "      <td>5.1</td>\n",
       "      <td>3.5</td>\n",
       "      <td>1.4</td>\n",
       "      <td>0.2</td>\n",
       "      <td>setosa</td>\n",
       "      <td>1</td>\n",
       "    </tr>\n",
       "    <tr>\n",
       "      <th>1</th>\n",
       "      <td>4.9</td>\n",
       "      <td>3.0</td>\n",
       "      <td>1.4</td>\n",
       "      <td>0.2</td>\n",
       "      <td>setosa</td>\n",
       "      <td>1</td>\n",
       "    </tr>\n",
       "    <tr>\n",
       "      <th>2</th>\n",
       "      <td>4.7</td>\n",
       "      <td>3.2</td>\n",
       "      <td>1.3</td>\n",
       "      <td>0.2</td>\n",
       "      <td>setosa</td>\n",
       "      <td>1</td>\n",
       "    </tr>\n",
       "    <tr>\n",
       "      <th>3</th>\n",
       "      <td>4.6</td>\n",
       "      <td>3.1</td>\n",
       "      <td>1.5</td>\n",
       "      <td>0.2</td>\n",
       "      <td>setosa</td>\n",
       "      <td>1</td>\n",
       "    </tr>\n",
       "    <tr>\n",
       "      <th>4</th>\n",
       "      <td>5.0</td>\n",
       "      <td>3.6</td>\n",
       "      <td>1.4</td>\n",
       "      <td>0.2</td>\n",
       "      <td>setosa</td>\n",
       "      <td>1</td>\n",
       "    </tr>\n",
       "  </tbody>\n",
       "</table>\n",
       "</div>"
      ],
      "text/plain": [
       "   sepal_length  sepal_width  petal_length  petal_width species  species_id\n",
       "0           5.1          3.5           1.4          0.2  setosa           1\n",
       "1           4.9          3.0           1.4          0.2  setosa           1\n",
       "2           4.7          3.2           1.3          0.2  setosa           1\n",
       "3           4.6          3.1           1.5          0.2  setosa           1\n",
       "4           5.0          3.6           1.4          0.2  setosa           1"
      ]
     },
     "execution_count": 35,
     "metadata": {},
     "output_type": "execute_result"
    }
   ],
   "source": [
    "df_iris = px.data.iris()\n",
    "df_iris.head()"
   ]
  },
  {
   "cell_type": "code",
   "execution_count": 36,
   "metadata": {},
   "outputs": [
    {
     "data": {
      "application/vnd.plotly.v1+json": {
       "config": {
        "plotlyServerURL": "https://plot.ly"
       },
       "data": [
        {
         "customdata": [
          [
           0.2,
           "setosa"
          ],
          [
           0.2,
           "setosa"
          ],
          [
           0.2,
           "setosa"
          ],
          [
           0.2,
           "setosa"
          ],
          [
           0.2,
           "setosa"
          ],
          [
           0.4,
           "setosa"
          ],
          [
           0.3,
           "setosa"
          ],
          [
           0.2,
           "setosa"
          ],
          [
           0.2,
           "setosa"
          ],
          [
           0.1,
           "setosa"
          ],
          [
           0.2,
           "setosa"
          ],
          [
           0.2,
           "setosa"
          ],
          [
           0.1,
           "setosa"
          ],
          [
           0.1,
           "setosa"
          ],
          [
           0.2,
           "setosa"
          ],
          [
           0.4,
           "setosa"
          ],
          [
           0.4,
           "setosa"
          ],
          [
           0.3,
           "setosa"
          ],
          [
           0.3,
           "setosa"
          ],
          [
           0.3,
           "setosa"
          ],
          [
           0.2,
           "setosa"
          ],
          [
           0.4,
           "setosa"
          ],
          [
           0.2,
           "setosa"
          ],
          [
           0.5,
           "setosa"
          ],
          [
           0.2,
           "setosa"
          ],
          [
           0.2,
           "setosa"
          ],
          [
           0.4,
           "setosa"
          ],
          [
           0.2,
           "setosa"
          ],
          [
           0.2,
           "setosa"
          ],
          [
           0.2,
           "setosa"
          ],
          [
           0.2,
           "setosa"
          ],
          [
           0.4,
           "setosa"
          ],
          [
           0.1,
           "setosa"
          ],
          [
           0.2,
           "setosa"
          ],
          [
           0.1,
           "setosa"
          ],
          [
           0.2,
           "setosa"
          ],
          [
           0.2,
           "setosa"
          ],
          [
           0.1,
           "setosa"
          ],
          [
           0.2,
           "setosa"
          ],
          [
           0.2,
           "setosa"
          ],
          [
           0.3,
           "setosa"
          ],
          [
           0.3,
           "setosa"
          ],
          [
           0.2,
           "setosa"
          ],
          [
           0.6,
           "setosa"
          ],
          [
           0.4,
           "setosa"
          ],
          [
           0.3,
           "setosa"
          ],
          [
           0.2,
           "setosa"
          ],
          [
           0.2,
           "setosa"
          ],
          [
           0.2,
           "setosa"
          ],
          [
           0.2,
           "setosa"
          ]
         ],
         "hovertemplate": "sepal_width=%{x}<br>sepal_length=%{y}<br>petal_length=%{marker.size}<br>petal_width=%{customdata[0]}<extra></extra>",
         "legendgroup": "setosa",
         "marker": {
          "color": "#636efa",
          "line": {
           "color": "DarkSlateGrey",
           "width": 1
          },
          "size": [
           1.4,
           1.4,
           1.3,
           1.5,
           1.4,
           1.7,
           1.4,
           1.5,
           1.4,
           1.5,
           1.5,
           1.6,
           1.4,
           1.1,
           1.2,
           1.5,
           1.3,
           1.4,
           1.7,
           1.5,
           1.7,
           1.5,
           1,
           1.7,
           1.9,
           1.6,
           1.6,
           1.5,
           1.4,
           1.6,
           1.6,
           1.5,
           1.5,
           1.4,
           1.5,
           1.2,
           1.3,
           1.5,
           1.3,
           1.5,
           1.3,
           1.3,
           1.3,
           1.6,
           1.9,
           1.4,
           1.6,
           1.4,
           1.5,
           1.4
          ],
          "sizemode": "area",
          "sizeref": 0.01725,
          "symbol": "circle"
         },
         "mode": "markers",
         "name": "setosa",
         "orientation": "v",
         "showlegend": true,
         "type": "scatter",
         "x": [
          3.5,
          3,
          3.2,
          3.1,
          3.6,
          3.9,
          3.4,
          3.4,
          2.9,
          3.1,
          3.7,
          3.4,
          3,
          3,
          4,
          4.4,
          3.9,
          3.5,
          3.8,
          3.8,
          3.4,
          3.7,
          3.6,
          3.3,
          3.4,
          3,
          3.4,
          3.5,
          3.4,
          3.2,
          3.1,
          3.4,
          4.1,
          4.2,
          3.1,
          3.2,
          3.5,
          3.1,
          3,
          3.4,
          3.5,
          2.3,
          3.2,
          3.5,
          3.8,
          3,
          3.8,
          3.2,
          3.7,
          3.3
         ],
         "xaxis": "x",
         "y": [
          5.1,
          4.9,
          4.7,
          4.6,
          5,
          5.4,
          4.6,
          5,
          4.4,
          4.9,
          5.4,
          4.8,
          4.8,
          4.3,
          5.8,
          5.7,
          5.4,
          5.1,
          5.7,
          5.1,
          5.4,
          5.1,
          4.6,
          5.1,
          4.8,
          5,
          5,
          5.2,
          5.2,
          4.7,
          4.8,
          5.4,
          5.2,
          5.5,
          4.9,
          5,
          5.5,
          4.9,
          4.4,
          5.1,
          5,
          4.5,
          4.4,
          5,
          5.1,
          4.8,
          5.1,
          4.6,
          5.3,
          5
         ],
         "yaxis": "y"
        },
        {
         "customdata": [
          [
           1.4,
           "versicolor"
          ],
          [
           1.5,
           "versicolor"
          ],
          [
           1.5,
           "versicolor"
          ],
          [
           1.3,
           "versicolor"
          ],
          [
           1.5,
           "versicolor"
          ],
          [
           1.3,
           "versicolor"
          ],
          [
           1.6,
           "versicolor"
          ],
          [
           1,
           "versicolor"
          ],
          [
           1.3,
           "versicolor"
          ],
          [
           1.4,
           "versicolor"
          ],
          [
           1,
           "versicolor"
          ],
          [
           1.5,
           "versicolor"
          ],
          [
           1,
           "versicolor"
          ],
          [
           1.4,
           "versicolor"
          ],
          [
           1.3,
           "versicolor"
          ],
          [
           1.4,
           "versicolor"
          ],
          [
           1.5,
           "versicolor"
          ],
          [
           1,
           "versicolor"
          ],
          [
           1.5,
           "versicolor"
          ],
          [
           1.1,
           "versicolor"
          ],
          [
           1.8,
           "versicolor"
          ],
          [
           1.3,
           "versicolor"
          ],
          [
           1.5,
           "versicolor"
          ],
          [
           1.2,
           "versicolor"
          ],
          [
           1.3,
           "versicolor"
          ],
          [
           1.4,
           "versicolor"
          ],
          [
           1.4,
           "versicolor"
          ],
          [
           1.7,
           "versicolor"
          ],
          [
           1.5,
           "versicolor"
          ],
          [
           1,
           "versicolor"
          ],
          [
           1.1,
           "versicolor"
          ],
          [
           1,
           "versicolor"
          ],
          [
           1.2,
           "versicolor"
          ],
          [
           1.6,
           "versicolor"
          ],
          [
           1.5,
           "versicolor"
          ],
          [
           1.6,
           "versicolor"
          ],
          [
           1.5,
           "versicolor"
          ],
          [
           1.3,
           "versicolor"
          ],
          [
           1.3,
           "versicolor"
          ],
          [
           1.3,
           "versicolor"
          ],
          [
           1.2,
           "versicolor"
          ],
          [
           1.4,
           "versicolor"
          ],
          [
           1.2,
           "versicolor"
          ],
          [
           1,
           "versicolor"
          ],
          [
           1.3,
           "versicolor"
          ],
          [
           1.2,
           "versicolor"
          ],
          [
           1.3,
           "versicolor"
          ],
          [
           1.3,
           "versicolor"
          ],
          [
           1.1,
           "versicolor"
          ],
          [
           1.3,
           "versicolor"
          ]
         ],
         "hovertemplate": "sepal_width=%{x}<br>sepal_length=%{y}<br>petal_length=%{marker.size}<br>petal_width=%{customdata[0]}<extra></extra>",
         "legendgroup": "versicolor",
         "marker": {
          "color": "#EF553B",
          "line": {
           "color": "DarkSlateGrey",
           "width": 1
          },
          "size": [
           4.7,
           4.5,
           4.9,
           4,
           4.6,
           4.5,
           4.7,
           3.3,
           4.6,
           3.9,
           3.5,
           4.2,
           4,
           4.7,
           3.6,
           4.4,
           4.5,
           4.1,
           4.5,
           3.9,
           4.8,
           4,
           4.9,
           4.7,
           4.3,
           4.4,
           4.8,
           5,
           4.5,
           3.5,
           3.8,
           3.7,
           3.9,
           5.1,
           4.5,
           4.5,
           4.7,
           4.4,
           4.1,
           4,
           4.4,
           4.6,
           4,
           3.3,
           4.2,
           4.2,
           4.2,
           4.3,
           3,
           4.1
          ],
          "sizemode": "area",
          "sizeref": 0.01725,
          "symbol": "circle"
         },
         "mode": "markers",
         "name": "versicolor",
         "orientation": "v",
         "showlegend": true,
         "type": "scatter",
         "x": [
          3.2,
          3.2,
          3.1,
          2.3,
          2.8,
          2.8,
          3.3,
          2.4,
          2.9,
          2.7,
          2,
          3,
          2.2,
          2.9,
          2.9,
          3.1,
          3,
          2.7,
          2.2,
          2.5,
          3.2,
          2.8,
          2.5,
          2.8,
          2.9,
          3,
          2.8,
          3,
          2.9,
          2.6,
          2.4,
          2.4,
          2.7,
          2.7,
          3,
          3.4,
          3.1,
          2.3,
          3,
          2.5,
          2.6,
          3,
          2.6,
          2.3,
          2.7,
          3,
          2.9,
          2.9,
          2.5,
          2.8
         ],
         "xaxis": "x",
         "y": [
          7,
          6.4,
          6.9,
          5.5,
          6.5,
          5.7,
          6.3,
          4.9,
          6.6,
          5.2,
          5,
          5.9,
          6,
          6.1,
          5.6,
          6.7,
          5.6,
          5.8,
          6.2,
          5.6,
          5.9,
          6.1,
          6.3,
          6.1,
          6.4,
          6.6,
          6.8,
          6.7,
          6,
          5.7,
          5.5,
          5.5,
          5.8,
          6,
          5.4,
          6,
          6.7,
          6.3,
          5.6,
          5.5,
          5.5,
          6.1,
          5.8,
          5,
          5.6,
          5.7,
          5.7,
          6.2,
          5.1,
          5.7
         ],
         "yaxis": "y"
        },
        {
         "customdata": [
          [
           2.5,
           "virginica"
          ],
          [
           1.9,
           "virginica"
          ],
          [
           2.1,
           "virginica"
          ],
          [
           1.8,
           "virginica"
          ],
          [
           2.2,
           "virginica"
          ],
          [
           2.1,
           "virginica"
          ],
          [
           1.7,
           "virginica"
          ],
          [
           1.8,
           "virginica"
          ],
          [
           1.8,
           "virginica"
          ],
          [
           2.5,
           "virginica"
          ],
          [
           2,
           "virginica"
          ],
          [
           1.9,
           "virginica"
          ],
          [
           2.1,
           "virginica"
          ],
          [
           2,
           "virginica"
          ],
          [
           2.4,
           "virginica"
          ],
          [
           2.3,
           "virginica"
          ],
          [
           1.8,
           "virginica"
          ],
          [
           2.2,
           "virginica"
          ],
          [
           2.3,
           "virginica"
          ],
          [
           1.5,
           "virginica"
          ],
          [
           2.3,
           "virginica"
          ],
          [
           2,
           "virginica"
          ],
          [
           2,
           "virginica"
          ],
          [
           1.8,
           "virginica"
          ],
          [
           2.1,
           "virginica"
          ],
          [
           1.8,
           "virginica"
          ],
          [
           1.8,
           "virginica"
          ],
          [
           1.8,
           "virginica"
          ],
          [
           2.1,
           "virginica"
          ],
          [
           1.6,
           "virginica"
          ],
          [
           1.9,
           "virginica"
          ],
          [
           2,
           "virginica"
          ],
          [
           2.2,
           "virginica"
          ],
          [
           1.5,
           "virginica"
          ],
          [
           1.4,
           "virginica"
          ],
          [
           2.3,
           "virginica"
          ],
          [
           2.4,
           "virginica"
          ],
          [
           1.8,
           "virginica"
          ],
          [
           1.8,
           "virginica"
          ],
          [
           2.1,
           "virginica"
          ],
          [
           2.4,
           "virginica"
          ],
          [
           2.3,
           "virginica"
          ],
          [
           1.9,
           "virginica"
          ],
          [
           2.3,
           "virginica"
          ],
          [
           2.5,
           "virginica"
          ],
          [
           2.3,
           "virginica"
          ],
          [
           1.9,
           "virginica"
          ],
          [
           2,
           "virginica"
          ],
          [
           2.3,
           "virginica"
          ],
          [
           1.8,
           "virginica"
          ]
         ],
         "hovertemplate": "sepal_width=%{x}<br>sepal_length=%{y}<br>petal_length=%{marker.size}<br>petal_width=%{customdata[0]}<extra></extra>",
         "legendgroup": "virginica",
         "marker": {
          "color": "#00cc96",
          "line": {
           "color": "DarkSlateGrey",
           "width": 1
          },
          "size": [
           6,
           5.1,
           5.9,
           5.6,
           5.8,
           6.6,
           4.5,
           6.3,
           5.8,
           6.1,
           5.1,
           5.3,
           5.5,
           5,
           5.1,
           5.3,
           5.5,
           6.7,
           6.9,
           5,
           5.7,
           4.9,
           6.7,
           4.9,
           5.7,
           6,
           4.8,
           4.9,
           5.6,
           5.8,
           6.1,
           6.4,
           5.6,
           5.1,
           5.6,
           6.1,
           5.6,
           5.5,
           4.8,
           5.4,
           5.6,
           5.1,
           5.1,
           5.9,
           5.7,
           5.2,
           5,
           5.2,
           5.4,
           5.1
          ],
          "sizemode": "area",
          "sizeref": 0.01725,
          "symbol": "circle"
         },
         "mode": "markers",
         "name": "virginica",
         "orientation": "v",
         "showlegend": true,
         "type": "scatter",
         "x": [
          3.3,
          2.7,
          3,
          2.9,
          3,
          3,
          2.5,
          2.9,
          2.5,
          3.6,
          3.2,
          2.7,
          3,
          2.5,
          2.8,
          3.2,
          3,
          3.8,
          2.6,
          2.2,
          3.2,
          2.8,
          2.8,
          2.7,
          3.3,
          3.2,
          2.8,
          3,
          2.8,
          3,
          2.8,
          3.8,
          2.8,
          2.8,
          2.6,
          3,
          3.4,
          3.1,
          3,
          3.1,
          3.1,
          3.1,
          2.7,
          3.2,
          3.3,
          3,
          2.5,
          3,
          3.4,
          3
         ],
         "xaxis": "x",
         "y": [
          6.3,
          5.8,
          7.1,
          6.3,
          6.5,
          7.6,
          4.9,
          7.3,
          6.7,
          7.2,
          6.5,
          6.4,
          6.8,
          5.7,
          5.8,
          6.4,
          6.5,
          7.7,
          7.7,
          6,
          6.9,
          5.6,
          7.7,
          6.3,
          6.7,
          7.2,
          6.2,
          6.1,
          6.4,
          7.2,
          7.4,
          7.9,
          6.4,
          6.3,
          6.1,
          7.7,
          6.3,
          6.4,
          6,
          6.9,
          6.7,
          6.9,
          5.8,
          6.8,
          6.7,
          6.7,
          6.3,
          6.5,
          6.2,
          5.9
         ],
         "yaxis": "y"
        }
       ],
       "layout": {
        "legend": {
         "itemsizing": "constant",
         "title": {
          "text": "species"
         },
         "tracegroupgap": 0
        },
        "margin": {
         "t": 60
        },
        "template": {
         "data": {
          "bar": [
           {
            "error_x": {
             "color": "#2a3f5f"
            },
            "error_y": {
             "color": "#2a3f5f"
            },
            "marker": {
             "line": {
              "color": "#E5ECF6",
              "width": 0.5
             },
             "pattern": {
              "fillmode": "overlay",
              "size": 10,
              "solidity": 0.2
             }
            },
            "type": "bar"
           }
          ],
          "barpolar": [
           {
            "marker": {
             "line": {
              "color": "#E5ECF6",
              "width": 0.5
             },
             "pattern": {
              "fillmode": "overlay",
              "size": 10,
              "solidity": 0.2
             }
            },
            "type": "barpolar"
           }
          ],
          "carpet": [
           {
            "aaxis": {
             "endlinecolor": "#2a3f5f",
             "gridcolor": "white",
             "linecolor": "white",
             "minorgridcolor": "white",
             "startlinecolor": "#2a3f5f"
            },
            "baxis": {
             "endlinecolor": "#2a3f5f",
             "gridcolor": "white",
             "linecolor": "white",
             "minorgridcolor": "white",
             "startlinecolor": "#2a3f5f"
            },
            "type": "carpet"
           }
          ],
          "choropleth": [
           {
            "colorbar": {
             "outlinewidth": 0,
             "ticks": ""
            },
            "type": "choropleth"
           }
          ],
          "contour": [
           {
            "colorbar": {
             "outlinewidth": 0,
             "ticks": ""
            },
            "colorscale": [
             [
              0,
              "#0d0887"
             ],
             [
              0.1111111111111111,
              "#46039f"
             ],
             [
              0.2222222222222222,
              "#7201a8"
             ],
             [
              0.3333333333333333,
              "#9c179e"
             ],
             [
              0.4444444444444444,
              "#bd3786"
             ],
             [
              0.5555555555555556,
              "#d8576b"
             ],
             [
              0.6666666666666666,
              "#ed7953"
             ],
             [
              0.7777777777777778,
              "#fb9f3a"
             ],
             [
              0.8888888888888888,
              "#fdca26"
             ],
             [
              1,
              "#f0f921"
             ]
            ],
            "type": "contour"
           }
          ],
          "contourcarpet": [
           {
            "colorbar": {
             "outlinewidth": 0,
             "ticks": ""
            },
            "type": "contourcarpet"
           }
          ],
          "heatmap": [
           {
            "colorbar": {
             "outlinewidth": 0,
             "ticks": ""
            },
            "colorscale": [
             [
              0,
              "#0d0887"
             ],
             [
              0.1111111111111111,
              "#46039f"
             ],
             [
              0.2222222222222222,
              "#7201a8"
             ],
             [
              0.3333333333333333,
              "#9c179e"
             ],
             [
              0.4444444444444444,
              "#bd3786"
             ],
             [
              0.5555555555555556,
              "#d8576b"
             ],
             [
              0.6666666666666666,
              "#ed7953"
             ],
             [
              0.7777777777777778,
              "#fb9f3a"
             ],
             [
              0.8888888888888888,
              "#fdca26"
             ],
             [
              1,
              "#f0f921"
             ]
            ],
            "type": "heatmap"
           }
          ],
          "heatmapgl": [
           {
            "colorbar": {
             "outlinewidth": 0,
             "ticks": ""
            },
            "colorscale": [
             [
              0,
              "#0d0887"
             ],
             [
              0.1111111111111111,
              "#46039f"
             ],
             [
              0.2222222222222222,
              "#7201a8"
             ],
             [
              0.3333333333333333,
              "#9c179e"
             ],
             [
              0.4444444444444444,
              "#bd3786"
             ],
             [
              0.5555555555555556,
              "#d8576b"
             ],
             [
              0.6666666666666666,
              "#ed7953"
             ],
             [
              0.7777777777777778,
              "#fb9f3a"
             ],
             [
              0.8888888888888888,
              "#fdca26"
             ],
             [
              1,
              "#f0f921"
             ]
            ],
            "type": "heatmapgl"
           }
          ],
          "histogram": [
           {
            "marker": {
             "pattern": {
              "fillmode": "overlay",
              "size": 10,
              "solidity": 0.2
             }
            },
            "type": "histogram"
           }
          ],
          "histogram2d": [
           {
            "colorbar": {
             "outlinewidth": 0,
             "ticks": ""
            },
            "colorscale": [
             [
              0,
              "#0d0887"
             ],
             [
              0.1111111111111111,
              "#46039f"
             ],
             [
              0.2222222222222222,
              "#7201a8"
             ],
             [
              0.3333333333333333,
              "#9c179e"
             ],
             [
              0.4444444444444444,
              "#bd3786"
             ],
             [
              0.5555555555555556,
              "#d8576b"
             ],
             [
              0.6666666666666666,
              "#ed7953"
             ],
             [
              0.7777777777777778,
              "#fb9f3a"
             ],
             [
              0.8888888888888888,
              "#fdca26"
             ],
             [
              1,
              "#f0f921"
             ]
            ],
            "type": "histogram2d"
           }
          ],
          "histogram2dcontour": [
           {
            "colorbar": {
             "outlinewidth": 0,
             "ticks": ""
            },
            "colorscale": [
             [
              0,
              "#0d0887"
             ],
             [
              0.1111111111111111,
              "#46039f"
             ],
             [
              0.2222222222222222,
              "#7201a8"
             ],
             [
              0.3333333333333333,
              "#9c179e"
             ],
             [
              0.4444444444444444,
              "#bd3786"
             ],
             [
              0.5555555555555556,
              "#d8576b"
             ],
             [
              0.6666666666666666,
              "#ed7953"
             ],
             [
              0.7777777777777778,
              "#fb9f3a"
             ],
             [
              0.8888888888888888,
              "#fdca26"
             ],
             [
              1,
              "#f0f921"
             ]
            ],
            "type": "histogram2dcontour"
           }
          ],
          "mesh3d": [
           {
            "colorbar": {
             "outlinewidth": 0,
             "ticks": ""
            },
            "type": "mesh3d"
           }
          ],
          "parcoords": [
           {
            "line": {
             "colorbar": {
              "outlinewidth": 0,
              "ticks": ""
             }
            },
            "type": "parcoords"
           }
          ],
          "pie": [
           {
            "automargin": true,
            "type": "pie"
           }
          ],
          "scatter": [
           {
            "fillpattern": {
             "fillmode": "overlay",
             "size": 10,
             "solidity": 0.2
            },
            "type": "scatter"
           }
          ],
          "scatter3d": [
           {
            "line": {
             "colorbar": {
              "outlinewidth": 0,
              "ticks": ""
             }
            },
            "marker": {
             "colorbar": {
              "outlinewidth": 0,
              "ticks": ""
             }
            },
            "type": "scatter3d"
           }
          ],
          "scattercarpet": [
           {
            "marker": {
             "colorbar": {
              "outlinewidth": 0,
              "ticks": ""
             }
            },
            "type": "scattercarpet"
           }
          ],
          "scattergeo": [
           {
            "marker": {
             "colorbar": {
              "outlinewidth": 0,
              "ticks": ""
             }
            },
            "type": "scattergeo"
           }
          ],
          "scattergl": [
           {
            "marker": {
             "colorbar": {
              "outlinewidth": 0,
              "ticks": ""
             }
            },
            "type": "scattergl"
           }
          ],
          "scattermapbox": [
           {
            "marker": {
             "colorbar": {
              "outlinewidth": 0,
              "ticks": ""
             }
            },
            "type": "scattermapbox"
           }
          ],
          "scatterpolar": [
           {
            "marker": {
             "colorbar": {
              "outlinewidth": 0,
              "ticks": ""
             }
            },
            "type": "scatterpolar"
           }
          ],
          "scatterpolargl": [
           {
            "marker": {
             "colorbar": {
              "outlinewidth": 0,
              "ticks": ""
             }
            },
            "type": "scatterpolargl"
           }
          ],
          "scatterternary": [
           {
            "marker": {
             "colorbar": {
              "outlinewidth": 0,
              "ticks": ""
             }
            },
            "type": "scatterternary"
           }
          ],
          "surface": [
           {
            "colorbar": {
             "outlinewidth": 0,
             "ticks": ""
            },
            "colorscale": [
             [
              0,
              "#0d0887"
             ],
             [
              0.1111111111111111,
              "#46039f"
             ],
             [
              0.2222222222222222,
              "#7201a8"
             ],
             [
              0.3333333333333333,
              "#9c179e"
             ],
             [
              0.4444444444444444,
              "#bd3786"
             ],
             [
              0.5555555555555556,
              "#d8576b"
             ],
             [
              0.6666666666666666,
              "#ed7953"
             ],
             [
              0.7777777777777778,
              "#fb9f3a"
             ],
             [
              0.8888888888888888,
              "#fdca26"
             ],
             [
              1,
              "#f0f921"
             ]
            ],
            "type": "surface"
           }
          ],
          "table": [
           {
            "cells": {
             "fill": {
              "color": "#EBF0F8"
             },
             "line": {
              "color": "white"
             }
            },
            "header": {
             "fill": {
              "color": "#C8D4E3"
             },
             "line": {
              "color": "white"
             }
            },
            "type": "table"
           }
          ]
         },
         "layout": {
          "annotationdefaults": {
           "arrowcolor": "#2a3f5f",
           "arrowhead": 0,
           "arrowwidth": 1
          },
          "autotypenumbers": "strict",
          "coloraxis": {
           "colorbar": {
            "outlinewidth": 0,
            "ticks": ""
           }
          },
          "colorscale": {
           "diverging": [
            [
             0,
             "#8e0152"
            ],
            [
             0.1,
             "#c51b7d"
            ],
            [
             0.2,
             "#de77ae"
            ],
            [
             0.3,
             "#f1b6da"
            ],
            [
             0.4,
             "#fde0ef"
            ],
            [
             0.5,
             "#f7f7f7"
            ],
            [
             0.6,
             "#e6f5d0"
            ],
            [
             0.7,
             "#b8e186"
            ],
            [
             0.8,
             "#7fbc41"
            ],
            [
             0.9,
             "#4d9221"
            ],
            [
             1,
             "#276419"
            ]
           ],
           "sequential": [
            [
             0,
             "#0d0887"
            ],
            [
             0.1111111111111111,
             "#46039f"
            ],
            [
             0.2222222222222222,
             "#7201a8"
            ],
            [
             0.3333333333333333,
             "#9c179e"
            ],
            [
             0.4444444444444444,
             "#bd3786"
            ],
            [
             0.5555555555555556,
             "#d8576b"
            ],
            [
             0.6666666666666666,
             "#ed7953"
            ],
            [
             0.7777777777777778,
             "#fb9f3a"
            ],
            [
             0.8888888888888888,
             "#fdca26"
            ],
            [
             1,
             "#f0f921"
            ]
           ],
           "sequentialminus": [
            [
             0,
             "#0d0887"
            ],
            [
             0.1111111111111111,
             "#46039f"
            ],
            [
             0.2222222222222222,
             "#7201a8"
            ],
            [
             0.3333333333333333,
             "#9c179e"
            ],
            [
             0.4444444444444444,
             "#bd3786"
            ],
            [
             0.5555555555555556,
             "#d8576b"
            ],
            [
             0.6666666666666666,
             "#ed7953"
            ],
            [
             0.7777777777777778,
             "#fb9f3a"
            ],
            [
             0.8888888888888888,
             "#fdca26"
            ],
            [
             1,
             "#f0f921"
            ]
           ]
          },
          "colorway": [
           "#636efa",
           "#EF553B",
           "#00cc96",
           "#ab63fa",
           "#FFA15A",
           "#19d3f3",
           "#FF6692",
           "#B6E880",
           "#FF97FF",
           "#FECB52"
          ],
          "font": {
           "color": "#2a3f5f"
          },
          "geo": {
           "bgcolor": "white",
           "lakecolor": "white",
           "landcolor": "#E5ECF6",
           "showlakes": true,
           "showland": true,
           "subunitcolor": "white"
          },
          "hoverlabel": {
           "align": "left"
          },
          "hovermode": "closest",
          "mapbox": {
           "style": "light"
          },
          "paper_bgcolor": "white",
          "plot_bgcolor": "#E5ECF6",
          "polar": {
           "angularaxis": {
            "gridcolor": "white",
            "linecolor": "white",
            "ticks": ""
           },
           "bgcolor": "#E5ECF6",
           "radialaxis": {
            "gridcolor": "white",
            "linecolor": "white",
            "ticks": ""
           }
          },
          "scene": {
           "xaxis": {
            "backgroundcolor": "#E5ECF6",
            "gridcolor": "white",
            "gridwidth": 2,
            "linecolor": "white",
            "showbackground": true,
            "ticks": "",
            "zerolinecolor": "white"
           },
           "yaxis": {
            "backgroundcolor": "#E5ECF6",
            "gridcolor": "white",
            "gridwidth": 2,
            "linecolor": "white",
            "showbackground": true,
            "ticks": "",
            "zerolinecolor": "white"
           },
           "zaxis": {
            "backgroundcolor": "#E5ECF6",
            "gridcolor": "white",
            "gridwidth": 2,
            "linecolor": "white",
            "showbackground": true,
            "ticks": "",
            "zerolinecolor": "white"
           }
          },
          "shapedefaults": {
           "line": {
            "color": "#2a3f5f"
           }
          },
          "ternary": {
           "aaxis": {
            "gridcolor": "white",
            "linecolor": "white",
            "ticks": ""
           },
           "baxis": {
            "gridcolor": "white",
            "linecolor": "white",
            "ticks": ""
           },
           "bgcolor": "#E5ECF6",
           "caxis": {
            "gridcolor": "white",
            "linecolor": "white",
            "ticks": ""
           }
          },
          "title": {
           "x": 0.05
          },
          "xaxis": {
           "automargin": true,
           "gridcolor": "white",
           "linecolor": "white",
           "ticks": "",
           "title": {
            "standoff": 15
           },
           "zerolinecolor": "white",
           "zerolinewidth": 2
          },
          "yaxis": {
           "automargin": true,
           "gridcolor": "white",
           "linecolor": "white",
           "ticks": "",
           "title": {
            "standoff": 15
           },
           "zerolinecolor": "white",
           "zerolinewidth": 2
          }
         }
        },
        "title": {
         "text": "Іриси"
        },
        "xaxis": {
         "anchor": "y",
         "domain": [
          0,
          1
         ],
         "title": {
          "text": "Ширина чашелистика"
         }
        },
        "yaxis": {
         "anchor": "x",
         "domain": [
          0,
          1
         ],
         "title": {
          "text": "Довжина чашелистика"
         }
        }
       }
      }
     },
     "metadata": {},
     "output_type": "display_data"
    }
   ],
   "source": [
    "fig = px.scatter(\n",
    "    df_iris,\n",
    "    x=\"sepal_width\",\n",
    "    y=\"sepal_length\",\n",
    "    size=\"petal_length\",\n",
    "    color=\"species\",\n",
    "    hover_data={\"petal_width\": True, \"species\": False},\n",
    ")\n",
    "\n",
    "fig.update_traces(marker=dict(line=dict(width=1, color=\"DarkSlateGrey\")),selector=dict(mode=\"markers\"))\n",
    "\n",
    "fig.update_layout(title=\"Іриси\", xaxis_title=\"Ширина чашелистика\", yaxis_title=\"Довжина чашелистика\")\n",
    "\n",
    "fig.show()"
   ]
  }
 ],
 "metadata": {
  "kernelspec": {
   "display_name": "Python 3",
   "language": "python",
   "name": "python3"
  },
  "language_info": {
   "codemirror_mode": {
    "name": "ipython",
    "version": 3
   },
   "file_extension": ".py",
   "mimetype": "text/x-python",
   "name": "python",
   "nbconvert_exporter": "python",
   "pygments_lexer": "ipython3",
   "version": "3.10.11"
  }
 },
 "nbformat": 4,
 "nbformat_minor": 2
}
